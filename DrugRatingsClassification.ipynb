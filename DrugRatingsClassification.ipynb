{
 "cells": [
  {
   "cell_type": "markdown",
   "metadata": {
    "id": "HRIS11L793eT"
   },
   "source": [
    "# Introduction\n",
    "\n",
    "https://github.com/beha9089/DTSA5511_Final\n",
    "\n",
    "## Abstract\n",
    "In this report, we perform NLP on patient drug reviews to classify overall patient satisfaction (favorable/unfavorable rating) using review text alone. We build several Recurrent Neural Network models for this classification task and contrast their results. Allowing variable training times via early stopping, our RNNs achieved F1 Scores of 81-83% (negative class) and 92-93% (positive class) in binary classification.\n",
    "\n",
    "## Data\n",
    "We are utilizing the Drug Review Dataset (Drugs.com) created by Surya Kallumadi and Felix Grer, as made available by the UCI Machine Learning Repository at https://archive.ics.uci.edu/dataset/462/drug+review+dataset+drugs+com.\n",
    "\n",
    "The dataset consists of 215K patient drug reviews paired with a rating indicative of overall satisfaction. The reviews range in length from single word responses to small essays; ratings are whole numbers from 1.0 to 10.0. The data are split 70/30 between train and test sets.\n",
    "## Resources\n",
    "https://www.tensorflow.org/text/tutorials/text_classification_rnn"
   ]
  },
  {
   "cell_type": "markdown",
   "metadata": {
    "id": "7JxBRn8U-AzD"
   },
   "source": [
    "## Preliminaries\n",
    "\n",
    "We begin with package imports and loading the data. We'll use TensorFlow and Keras for the RNN models, so we'll import layers, and we'll specifically bring in the TextVectorization layer; and we'll also be using the TfidfVecotorizer from scikit-learn, as well as their splitting function and their metrics library. The HTML package will be used to decode HTML entities in the text.\n",
    "\n",
    "The data were previously downloaded from the UCI ML Repo and uploaded to Drive."
   ]
  },
  {
   "cell_type": "code",
   "execution_count": null,
   "metadata": {
    "id": "7Hx320qYnF7-"
   },
   "outputs": [],
   "source": [
    "import html\n",
    "import numpy as np\n",
    "import pandas as pd\n",
    "import tensorflow as tf\n",
    "import matplotlib.pyplot as plt\n",
    "%matplotlib inline\n",
    "\n",
    "from tensorflow import keras\n",
    "from tensorflow.keras import layers\n",
    "from tensorflow.keras.layers import TextVectorization\n",
    "from sklearn.feature_extraction.text import TfidfVectorizer\n",
    "from sklearn.model_selection import train_test_split\n",
    "from sklearn import metrics"
   ]
  },
  {
   "cell_type": "code",
   "execution_count": null,
   "metadata": {
    "colab": {
     "base_uri": "https://localhost:8080/"
    },
    "id": "qpqgXG8_nVXh",
    "outputId": "ce6656fb-c794-46b8-b473-ce87f6b23d00"
   },
   "outputs": [
    {
     "name": "stdout",
     "output_type": "stream",
     "text": [
      "Mounted at /content/drive\n"
     ]
    }
   ],
   "source": [
    "# Mount to my Drive\n",
    "from google.colab import drive\n",
    "drive.mount('/content/drive')"
   ]
  },
  {
   "cell_type": "code",
   "execution_count": null,
   "metadata": {
    "colab": {
     "base_uri": "https://localhost:8080/"
    },
    "id": "D7qg8qM4oF_G",
    "outputId": "847d5a4f-fbf4-420e-b809-f85256486f4c"
   },
   "outputs": [
    {
     "name": "stdout",
     "output_type": "stream",
     "text": [
      "train_df has shape (161297, 6)\n",
      "test_df has shape (53766, 6)\n"
     ]
    }
   ],
   "source": [
    "base_path = '/content/drive/MyDrive/DTSA5511_Final/Data/'\n",
    "\n",
    "train_df = pd.read_csv(base_path + 'drugsComTrain_raw.tsv', sep = '\\t')\n",
    "test_df = pd.read_csv(base_path + 'drugsComTest_raw.tsv', sep = '\\t')\n",
    "\n",
    "# Drop the index column\n",
    "train_df.drop(columns = 'Unnamed: 0', inplace = True)\n",
    "test_df.drop(columns = 'Unnamed: 0', inplace = True)\n",
    "\n",
    "print(f'train_df has shape {train_df.shape}')\n",
    "print(f'test_df has shape {test_df.shape}')"
   ]
  },
  {
   "cell_type": "code",
   "execution_count": null,
   "metadata": {
    "colab": {
     "base_uri": "https://localhost:8080/",
     "height": 206
    },
    "id": "F6ksTEnroF8H",
    "outputId": "843166a1-e1ac-4e38-ff75-b6f1992ba32e"
   },
   "outputs": [
    {
     "data": {
      "text/html": [
       "\n",
       "  <div id=\"df-4b2f3072-e18e-44f1-8259-b3314f1cf389\" class=\"colab-df-container\">\n",
       "    <div>\n",
       "<style scoped>\n",
       "    .dataframe tbody tr th:only-of-type {\n",
       "        vertical-align: middle;\n",
       "    }\n",
       "\n",
       "    .dataframe tbody tr th {\n",
       "        vertical-align: top;\n",
       "    }\n",
       "\n",
       "    .dataframe thead th {\n",
       "        text-align: right;\n",
       "    }\n",
       "</style>\n",
       "<table border=\"1\" class=\"dataframe\">\n",
       "  <thead>\n",
       "    <tr style=\"text-align: right;\">\n",
       "      <th></th>\n",
       "      <th>drugName</th>\n",
       "      <th>condition</th>\n",
       "      <th>review</th>\n",
       "      <th>rating</th>\n",
       "      <th>date</th>\n",
       "      <th>usefulCount</th>\n",
       "    </tr>\n",
       "  </thead>\n",
       "  <tbody>\n",
       "    <tr>\n",
       "      <th>0</th>\n",
       "      <td>Valsartan</td>\n",
       "      <td>Left Ventricular Dysfunction</td>\n",
       "      <td>\"It has no side effect, I take it in combinati...</td>\n",
       "      <td>9.0</td>\n",
       "      <td>May 20, 2012</td>\n",
       "      <td>27</td>\n",
       "    </tr>\n",
       "    <tr>\n",
       "      <th>1</th>\n",
       "      <td>Guanfacine</td>\n",
       "      <td>ADHD</td>\n",
       "      <td>\"My son is halfway through his fourth week of ...</td>\n",
       "      <td>8.0</td>\n",
       "      <td>April 27, 2010</td>\n",
       "      <td>192</td>\n",
       "    </tr>\n",
       "    <tr>\n",
       "      <th>2</th>\n",
       "      <td>Lybrel</td>\n",
       "      <td>Birth Control</td>\n",
       "      <td>\"I used to take another oral contraceptive, wh...</td>\n",
       "      <td>5.0</td>\n",
       "      <td>December 14, 2009</td>\n",
       "      <td>17</td>\n",
       "    </tr>\n",
       "    <tr>\n",
       "      <th>3</th>\n",
       "      <td>Ortho Evra</td>\n",
       "      <td>Birth Control</td>\n",
       "      <td>\"This is my first time using any form of birth...</td>\n",
       "      <td>8.0</td>\n",
       "      <td>November 3, 2015</td>\n",
       "      <td>10</td>\n",
       "    </tr>\n",
       "    <tr>\n",
       "      <th>4</th>\n",
       "      <td>Buprenorphine / naloxone</td>\n",
       "      <td>Opiate Dependence</td>\n",
       "      <td>\"Suboxone has completely turned my life around...</td>\n",
       "      <td>9.0</td>\n",
       "      <td>November 27, 2016</td>\n",
       "      <td>37</td>\n",
       "    </tr>\n",
       "  </tbody>\n",
       "</table>\n",
       "</div>\n",
       "    <div class=\"colab-df-buttons\">\n",
       "\n",
       "  <div class=\"colab-df-container\">\n",
       "    <button class=\"colab-df-convert\" onclick=\"convertToInteractive('df-4b2f3072-e18e-44f1-8259-b3314f1cf389')\"\n",
       "            title=\"Convert this dataframe to an interactive table.\"\n",
       "            style=\"display:none;\">\n",
       "\n",
       "  <svg xmlns=\"http://www.w3.org/2000/svg\" height=\"24px\" viewBox=\"0 -960 960 960\">\n",
       "    <path d=\"M120-120v-720h720v720H120Zm60-500h600v-160H180v160Zm220 220h160v-160H400v160Zm0 220h160v-160H400v160ZM180-400h160v-160H180v160Zm440 0h160v-160H620v160ZM180-180h160v-160H180v160Zm440 0h160v-160H620v160Z\"/>\n",
       "  </svg>\n",
       "    </button>\n",
       "\n",
       "  <style>\n",
       "    .colab-df-container {\n",
       "      display:flex;\n",
       "      gap: 12px;\n",
       "    }\n",
       "\n",
       "    .colab-df-convert {\n",
       "      background-color: #E8F0FE;\n",
       "      border: none;\n",
       "      border-radius: 50%;\n",
       "      cursor: pointer;\n",
       "      display: none;\n",
       "      fill: #1967D2;\n",
       "      height: 32px;\n",
       "      padding: 0 0 0 0;\n",
       "      width: 32px;\n",
       "    }\n",
       "\n",
       "    .colab-df-convert:hover {\n",
       "      background-color: #E2EBFA;\n",
       "      box-shadow: 0px 1px 2px rgba(60, 64, 67, 0.3), 0px 1px 3px 1px rgba(60, 64, 67, 0.15);\n",
       "      fill: #174EA6;\n",
       "    }\n",
       "\n",
       "    .colab-df-buttons div {\n",
       "      margin-bottom: 4px;\n",
       "    }\n",
       "\n",
       "    [theme=dark] .colab-df-convert {\n",
       "      background-color: #3B4455;\n",
       "      fill: #D2E3FC;\n",
       "    }\n",
       "\n",
       "    [theme=dark] .colab-df-convert:hover {\n",
       "      background-color: #434B5C;\n",
       "      box-shadow: 0px 1px 3px 1px rgba(0, 0, 0, 0.15);\n",
       "      filter: drop-shadow(0px 1px 2px rgba(0, 0, 0, 0.3));\n",
       "      fill: #FFFFFF;\n",
       "    }\n",
       "  </style>\n",
       "\n",
       "    <script>\n",
       "      const buttonEl =\n",
       "        document.querySelector('#df-4b2f3072-e18e-44f1-8259-b3314f1cf389 button.colab-df-convert');\n",
       "      buttonEl.style.display =\n",
       "        google.colab.kernel.accessAllowed ? 'block' : 'none';\n",
       "\n",
       "      async function convertToInteractive(key) {\n",
       "        const element = document.querySelector('#df-4b2f3072-e18e-44f1-8259-b3314f1cf389');\n",
       "        const dataTable =\n",
       "          await google.colab.kernel.invokeFunction('convertToInteractive',\n",
       "                                                    [key], {});\n",
       "        if (!dataTable) return;\n",
       "\n",
       "        const docLinkHtml = 'Like what you see? Visit the ' +\n",
       "          '<a target=\"_blank\" href=https://colab.research.google.com/notebooks/data_table.ipynb>data table notebook</a>'\n",
       "          + ' to learn more about interactive tables.';\n",
       "        element.innerHTML = '';\n",
       "        dataTable['output_type'] = 'display_data';\n",
       "        await google.colab.output.renderOutput(dataTable, element);\n",
       "        const docLink = document.createElement('div');\n",
       "        docLink.innerHTML = docLinkHtml;\n",
       "        element.appendChild(docLink);\n",
       "      }\n",
       "    </script>\n",
       "  </div>\n",
       "\n",
       "\n",
       "<div id=\"df-ea67c9b1-1e49-4856-8f05-0ea05e374bdf\">\n",
       "  <button class=\"colab-df-quickchart\" onclick=\"quickchart('df-ea67c9b1-1e49-4856-8f05-0ea05e374bdf')\"\n",
       "            title=\"Suggest charts.\"\n",
       "            style=\"display:none;\">\n",
       "\n",
       "<svg xmlns=\"http://www.w3.org/2000/svg\" height=\"24px\"viewBox=\"0 0 24 24\"\n",
       "     width=\"24px\">\n",
       "    <g>\n",
       "        <path d=\"M19 3H5c-1.1 0-2 .9-2 2v14c0 1.1.9 2 2 2h14c1.1 0 2-.9 2-2V5c0-1.1-.9-2-2-2zM9 17H7v-7h2v7zm4 0h-2V7h2v10zm4 0h-2v-4h2v4z\"/>\n",
       "    </g>\n",
       "</svg>\n",
       "  </button>\n",
       "\n",
       "<style>\n",
       "  .colab-df-quickchart {\n",
       "      --bg-color: #E8F0FE;\n",
       "      --fill-color: #1967D2;\n",
       "      --hover-bg-color: #E2EBFA;\n",
       "      --hover-fill-color: #174EA6;\n",
       "      --disabled-fill-color: #AAA;\n",
       "      --disabled-bg-color: #DDD;\n",
       "  }\n",
       "\n",
       "  [theme=dark] .colab-df-quickchart {\n",
       "      --bg-color: #3B4455;\n",
       "      --fill-color: #D2E3FC;\n",
       "      --hover-bg-color: #434B5C;\n",
       "      --hover-fill-color: #FFFFFF;\n",
       "      --disabled-bg-color: #3B4455;\n",
       "      --disabled-fill-color: #666;\n",
       "  }\n",
       "\n",
       "  .colab-df-quickchart {\n",
       "    background-color: var(--bg-color);\n",
       "    border: none;\n",
       "    border-radius: 50%;\n",
       "    cursor: pointer;\n",
       "    display: none;\n",
       "    fill: var(--fill-color);\n",
       "    height: 32px;\n",
       "    padding: 0;\n",
       "    width: 32px;\n",
       "  }\n",
       "\n",
       "  .colab-df-quickchart:hover {\n",
       "    background-color: var(--hover-bg-color);\n",
       "    box-shadow: 0 1px 2px rgba(60, 64, 67, 0.3), 0 1px 3px 1px rgba(60, 64, 67, 0.15);\n",
       "    fill: var(--button-hover-fill-color);\n",
       "  }\n",
       "\n",
       "  .colab-df-quickchart-complete:disabled,\n",
       "  .colab-df-quickchart-complete:disabled:hover {\n",
       "    background-color: var(--disabled-bg-color);\n",
       "    fill: var(--disabled-fill-color);\n",
       "    box-shadow: none;\n",
       "  }\n",
       "\n",
       "  .colab-df-spinner {\n",
       "    border: 2px solid var(--fill-color);\n",
       "    border-color: transparent;\n",
       "    border-bottom-color: var(--fill-color);\n",
       "    animation:\n",
       "      spin 1s steps(1) infinite;\n",
       "  }\n",
       "\n",
       "  @keyframes spin {\n",
       "    0% {\n",
       "      border-color: transparent;\n",
       "      border-bottom-color: var(--fill-color);\n",
       "      border-left-color: var(--fill-color);\n",
       "    }\n",
       "    20% {\n",
       "      border-color: transparent;\n",
       "      border-left-color: var(--fill-color);\n",
       "      border-top-color: var(--fill-color);\n",
       "    }\n",
       "    30% {\n",
       "      border-color: transparent;\n",
       "      border-left-color: var(--fill-color);\n",
       "      border-top-color: var(--fill-color);\n",
       "      border-right-color: var(--fill-color);\n",
       "    }\n",
       "    40% {\n",
       "      border-color: transparent;\n",
       "      border-right-color: var(--fill-color);\n",
       "      border-top-color: var(--fill-color);\n",
       "    }\n",
       "    60% {\n",
       "      border-color: transparent;\n",
       "      border-right-color: var(--fill-color);\n",
       "    }\n",
       "    80% {\n",
       "      border-color: transparent;\n",
       "      border-right-color: var(--fill-color);\n",
       "      border-bottom-color: var(--fill-color);\n",
       "    }\n",
       "    90% {\n",
       "      border-color: transparent;\n",
       "      border-bottom-color: var(--fill-color);\n",
       "    }\n",
       "  }\n",
       "</style>\n",
       "\n",
       "  <script>\n",
       "    async function quickchart(key) {\n",
       "      const quickchartButtonEl =\n",
       "        document.querySelector('#' + key + ' button');\n",
       "      quickchartButtonEl.disabled = true;  // To prevent multiple clicks.\n",
       "      quickchartButtonEl.classList.add('colab-df-spinner');\n",
       "      try {\n",
       "        const charts = await google.colab.kernel.invokeFunction(\n",
       "            'suggestCharts', [key], {});\n",
       "      } catch (error) {\n",
       "        console.error('Error during call to suggestCharts:', error);\n",
       "      }\n",
       "      quickchartButtonEl.classList.remove('colab-df-spinner');\n",
       "      quickchartButtonEl.classList.add('colab-df-quickchart-complete');\n",
       "    }\n",
       "    (() => {\n",
       "      let quickchartButtonEl =\n",
       "        document.querySelector('#df-ea67c9b1-1e49-4856-8f05-0ea05e374bdf button');\n",
       "      quickchartButtonEl.style.display =\n",
       "        google.colab.kernel.accessAllowed ? 'block' : 'none';\n",
       "    })();\n",
       "  </script>\n",
       "</div>\n",
       "    </div>\n",
       "  </div>\n"
      ],
      "text/plain": [
       "                   drugName                     condition  \\\n",
       "0                 Valsartan  Left Ventricular Dysfunction   \n",
       "1                Guanfacine                          ADHD   \n",
       "2                    Lybrel                 Birth Control   \n",
       "3                Ortho Evra                 Birth Control   \n",
       "4  Buprenorphine / naloxone             Opiate Dependence   \n",
       "\n",
       "                                              review  rating  \\\n",
       "0  \"It has no side effect, I take it in combinati...     9.0   \n",
       "1  \"My son is halfway through his fourth week of ...     8.0   \n",
       "2  \"I used to take another oral contraceptive, wh...     5.0   \n",
       "3  \"This is my first time using any form of birth...     8.0   \n",
       "4  \"Suboxone has completely turned my life around...     9.0   \n",
       "\n",
       "                date  usefulCount  \n",
       "0       May 20, 2012           27  \n",
       "1     April 27, 2010          192  \n",
       "2  December 14, 2009           17  \n",
       "3   November 3, 2015           10  \n",
       "4  November 27, 2016           37  "
      ]
     },
     "execution_count": 5,
     "metadata": {},
     "output_type": "execute_result"
    }
   ],
   "source": [
    "train_df.head()"
   ]
  },
  {
   "cell_type": "markdown",
   "metadata": {
    "id": "w7-XwEeG_uTZ"
   },
   "source": [
    "# Clean Up and EDA"
   ]
  },
  {
   "cell_type": "markdown",
   "metadata": {
    "id": "Y2RJYU55AB9y"
   },
   "source": [
    "## Clean Up\n",
    "\n",
    "As these are data scraped from the web, there are some data quality issues that we will address before moving into our EDA. Here we will:\n",
    "\n",
    "  1) Clean up the condition column by filling NAs/blanks and removing bad values, which are identified with a special character sequence;\n",
    "\n",
    "  2) Remove duplicate records, where records with identifcal review, date, and rating are considered to be duplicated;\n",
    "\n",
    "  3) Process the review text by decoding HTML entities, converting to lowercase, and then removing any non alphabetic characters, storing the resulting text in a new 'review_clean' column.\n",
    "\n",
    "We build functions for each of these three steps to simplify the clean up of both train and test sets. However, these functions are not used anywhere else in the code."
   ]
  },
  {
   "cell_type": "markdown",
   "metadata": {
    "id": "p0-bU_XAHBaN"
   },
   "source": [
    "### Clean Up Condition\n",
    "\n",
    "Below we define a function to preprocess 'condition' and call it on both the test and train data. This step necessarily comes first as the next preprocess step removes duplicates in part based on the value of condition. Here we simply overwrite both NA and bad values to an empty string so that these are not differentiated in the duplicate check. The bad values were found during initial EDA and appear to be a parsing error and we do not consider these valid."
   ]
  },
  {
   "cell_type": "code",
   "execution_count": null,
   "metadata": {
    "colab": {
     "base_uri": "https://localhost:8080/"
    },
    "id": "OKpbm7723-wp",
    "outputId": "c3e6b548-4c4d-4a20-c608-dd36cc11f37b"
   },
   "outputs": [
    {
     "name": "stdout",
     "output_type": "stream",
     "text": [
      "Clean condition in train_df\n",
      "There are 899 NA values in condition (0.6%)\n",
      "There are 900 records with a bad value in condition (0.6%)\n",
      "Clean condition in test_df\n",
      "There are 295 NA values in condition (0.5%)\n",
      "There are 271 records with a bad value in condition (0.5%)\n"
     ]
    }
   ],
   "source": [
    "# Define a function to replace bad values in the condition column. Reports on results\n",
    "# Bad values are defined as blanks and parsing errors, identified as those containing '</'\n",
    "def clean_condition(df):\n",
    "  # Fill NA values\n",
    "  is_na = df['condition'].isna()\n",
    "  print(f'There are {np.sum(is_na)} NA values in condition ({round(np.sum(is_na)/len(is_na), 3)*100}%)')\n",
    "  df.loc[is_na, 'condition'] = ''\n",
    "\n",
    "  # Find bad values using the search string '</'\n",
    "  bad_condition_val = df['condition'].str.contains('</', na = False)\n",
    "  print(f'There are {np.sum(bad_condition_val)} records with a bad value in condition ({round(np.sum(bad_condition_val)/len(bad_condition_val), 3)*100}%)')\n",
    "  df.loc[bad_condition_val, 'condition'] = ''\n",
    "\n",
    "# Clean train and test\n",
    "print('Clean condition in train_df')\n",
    "clean_condition(train_df)\n",
    "print('Clean condition in test_df')\n",
    "clean_condition(test_df)"
   ]
  },
  {
   "cell_type": "markdown",
   "metadata": {
    "id": "Ec33Lm1qIja3"
   },
   "source": [
    "### Remove Duplicates\n",
    "\n",
    "During initial EDA we found replication of some records, such as the example printed below, where it appears that a particular review for the drug Zovia was captured under both the brandname and the generic. We remove such duplicate records by considering the review text, the rating, and the date: If two or more records are identical in these three features, then we retain only one, without consideration for which record is kept. This avoids removing trivial reviews (e.g., \"didn't work\", \"works great!\") and avoids the case of a drug recorded under various names or conditions.\n",
    "\n",
    "Unfortunately a significant portion (approx. 1/3) of the training records are duplicates, and are thus removed. This means that instead of training our model with 161K records, we train with 112K."
   ]
  },
  {
   "cell_type": "code",
   "execution_count": null,
   "metadata": {
    "colab": {
     "base_uri": "https://localhost:8080/",
     "height": 112
    },
    "id": "Lj5mjYoC6OoF",
    "outputId": "715874b3-d51a-4a01-fc2b-bbdaaa046414"
   },
   "outputs": [
    {
     "data": {
      "text/html": [
       "\n",
       "  <div id=\"df-64311e88-b300-4644-9841-617d0e273a6b\" class=\"colab-df-container\">\n",
       "    <div>\n",
       "<style scoped>\n",
       "    .dataframe tbody tr th:only-of-type {\n",
       "        vertical-align: middle;\n",
       "    }\n",
       "\n",
       "    .dataframe tbody tr th {\n",
       "        vertical-align: top;\n",
       "    }\n",
       "\n",
       "    .dataframe thead th {\n",
       "        text-align: right;\n",
       "    }\n",
       "</style>\n",
       "<table border=\"1\" class=\"dataframe\">\n",
       "  <thead>\n",
       "    <tr style=\"text-align: right;\">\n",
       "      <th></th>\n",
       "      <th>drugName</th>\n",
       "      <th>condition</th>\n",
       "      <th>review</th>\n",
       "      <th>rating</th>\n",
       "      <th>date</th>\n",
       "      <th>usefulCount</th>\n",
       "    </tr>\n",
       "  </thead>\n",
       "  <tbody>\n",
       "    <tr>\n",
       "      <th>22486</th>\n",
       "      <td>Zovia</td>\n",
       "      <td>Birth Control</td>\n",
       "      <td>\"Zovia cleared my acne and helped regulate my ...</td>\n",
       "      <td>2.0</td>\n",
       "      <td>August 21, 2013</td>\n",
       "      <td>11</td>\n",
       "    </tr>\n",
       "    <tr>\n",
       "      <th>61531</th>\n",
       "      <td>Ethinyl estradiol / ethynodiol</td>\n",
       "      <td>Birth Control</td>\n",
       "      <td>\"Zovia cleared my acne and helped regulate my ...</td>\n",
       "      <td>2.0</td>\n",
       "      <td>August 21, 2013</td>\n",
       "      <td>11</td>\n",
       "    </tr>\n",
       "  </tbody>\n",
       "</table>\n",
       "</div>\n",
       "    <div class=\"colab-df-buttons\">\n",
       "\n",
       "  <div class=\"colab-df-container\">\n",
       "    <button class=\"colab-df-convert\" onclick=\"convertToInteractive('df-64311e88-b300-4644-9841-617d0e273a6b')\"\n",
       "            title=\"Convert this dataframe to an interactive table.\"\n",
       "            style=\"display:none;\">\n",
       "\n",
       "  <svg xmlns=\"http://www.w3.org/2000/svg\" height=\"24px\" viewBox=\"0 -960 960 960\">\n",
       "    <path d=\"M120-120v-720h720v720H120Zm60-500h600v-160H180v160Zm220 220h160v-160H400v160Zm0 220h160v-160H400v160ZM180-400h160v-160H180v160Zm440 0h160v-160H620v160ZM180-180h160v-160H180v160Zm440 0h160v-160H620v160Z\"/>\n",
       "  </svg>\n",
       "    </button>\n",
       "\n",
       "  <style>\n",
       "    .colab-df-container {\n",
       "      display:flex;\n",
       "      gap: 12px;\n",
       "    }\n",
       "\n",
       "    .colab-df-convert {\n",
       "      background-color: #E8F0FE;\n",
       "      border: none;\n",
       "      border-radius: 50%;\n",
       "      cursor: pointer;\n",
       "      display: none;\n",
       "      fill: #1967D2;\n",
       "      height: 32px;\n",
       "      padding: 0 0 0 0;\n",
       "      width: 32px;\n",
       "    }\n",
       "\n",
       "    .colab-df-convert:hover {\n",
       "      background-color: #E2EBFA;\n",
       "      box-shadow: 0px 1px 2px rgba(60, 64, 67, 0.3), 0px 1px 3px 1px rgba(60, 64, 67, 0.15);\n",
       "      fill: #174EA6;\n",
       "    }\n",
       "\n",
       "    .colab-df-buttons div {\n",
       "      margin-bottom: 4px;\n",
       "    }\n",
       "\n",
       "    [theme=dark] .colab-df-convert {\n",
       "      background-color: #3B4455;\n",
       "      fill: #D2E3FC;\n",
       "    }\n",
       "\n",
       "    [theme=dark] .colab-df-convert:hover {\n",
       "      background-color: #434B5C;\n",
       "      box-shadow: 0px 1px 3px 1px rgba(0, 0, 0, 0.15);\n",
       "      filter: drop-shadow(0px 1px 2px rgba(0, 0, 0, 0.3));\n",
       "      fill: #FFFFFF;\n",
       "    }\n",
       "  </style>\n",
       "\n",
       "    <script>\n",
       "      const buttonEl =\n",
       "        document.querySelector('#df-64311e88-b300-4644-9841-617d0e273a6b button.colab-df-convert');\n",
       "      buttonEl.style.display =\n",
       "        google.colab.kernel.accessAllowed ? 'block' : 'none';\n",
       "\n",
       "      async function convertToInteractive(key) {\n",
       "        const element = document.querySelector('#df-64311e88-b300-4644-9841-617d0e273a6b');\n",
       "        const dataTable =\n",
       "          await google.colab.kernel.invokeFunction('convertToInteractive',\n",
       "                                                    [key], {});\n",
       "        if (!dataTable) return;\n",
       "\n",
       "        const docLinkHtml = 'Like what you see? Visit the ' +\n",
       "          '<a target=\"_blank\" href=https://colab.research.google.com/notebooks/data_table.ipynb>data table notebook</a>'\n",
       "          + ' to learn more about interactive tables.';\n",
       "        element.innerHTML = '';\n",
       "        dataTable['output_type'] = 'display_data';\n",
       "        await google.colab.output.renderOutput(dataTable, element);\n",
       "        const docLink = document.createElement('div');\n",
       "        docLink.innerHTML = docLinkHtml;\n",
       "        element.appendChild(docLink);\n",
       "      }\n",
       "    </script>\n",
       "  </div>\n",
       "\n",
       "\n",
       "<div id=\"df-181c1117-450a-4ed1-bdc6-c55da19ff0c8\">\n",
       "  <button class=\"colab-df-quickchart\" onclick=\"quickchart('df-181c1117-450a-4ed1-bdc6-c55da19ff0c8')\"\n",
       "            title=\"Suggest charts.\"\n",
       "            style=\"display:none;\">\n",
       "\n",
       "<svg xmlns=\"http://www.w3.org/2000/svg\" height=\"24px\"viewBox=\"0 0 24 24\"\n",
       "     width=\"24px\">\n",
       "    <g>\n",
       "        <path d=\"M19 3H5c-1.1 0-2 .9-2 2v14c0 1.1.9 2 2 2h14c1.1 0 2-.9 2-2V5c0-1.1-.9-2-2-2zM9 17H7v-7h2v7zm4 0h-2V7h2v10zm4 0h-2v-4h2v4z\"/>\n",
       "    </g>\n",
       "</svg>\n",
       "  </button>\n",
       "\n",
       "<style>\n",
       "  .colab-df-quickchart {\n",
       "      --bg-color: #E8F0FE;\n",
       "      --fill-color: #1967D2;\n",
       "      --hover-bg-color: #E2EBFA;\n",
       "      --hover-fill-color: #174EA6;\n",
       "      --disabled-fill-color: #AAA;\n",
       "      --disabled-bg-color: #DDD;\n",
       "  }\n",
       "\n",
       "  [theme=dark] .colab-df-quickchart {\n",
       "      --bg-color: #3B4455;\n",
       "      --fill-color: #D2E3FC;\n",
       "      --hover-bg-color: #434B5C;\n",
       "      --hover-fill-color: #FFFFFF;\n",
       "      --disabled-bg-color: #3B4455;\n",
       "      --disabled-fill-color: #666;\n",
       "  }\n",
       "\n",
       "  .colab-df-quickchart {\n",
       "    background-color: var(--bg-color);\n",
       "    border: none;\n",
       "    border-radius: 50%;\n",
       "    cursor: pointer;\n",
       "    display: none;\n",
       "    fill: var(--fill-color);\n",
       "    height: 32px;\n",
       "    padding: 0;\n",
       "    width: 32px;\n",
       "  }\n",
       "\n",
       "  .colab-df-quickchart:hover {\n",
       "    background-color: var(--hover-bg-color);\n",
       "    box-shadow: 0 1px 2px rgba(60, 64, 67, 0.3), 0 1px 3px 1px rgba(60, 64, 67, 0.15);\n",
       "    fill: var(--button-hover-fill-color);\n",
       "  }\n",
       "\n",
       "  .colab-df-quickchart-complete:disabled,\n",
       "  .colab-df-quickchart-complete:disabled:hover {\n",
       "    background-color: var(--disabled-bg-color);\n",
       "    fill: var(--disabled-fill-color);\n",
       "    box-shadow: none;\n",
       "  }\n",
       "\n",
       "  .colab-df-spinner {\n",
       "    border: 2px solid var(--fill-color);\n",
       "    border-color: transparent;\n",
       "    border-bottom-color: var(--fill-color);\n",
       "    animation:\n",
       "      spin 1s steps(1) infinite;\n",
       "  }\n",
       "\n",
       "  @keyframes spin {\n",
       "    0% {\n",
       "      border-color: transparent;\n",
       "      border-bottom-color: var(--fill-color);\n",
       "      border-left-color: var(--fill-color);\n",
       "    }\n",
       "    20% {\n",
       "      border-color: transparent;\n",
       "      border-left-color: var(--fill-color);\n",
       "      border-top-color: var(--fill-color);\n",
       "    }\n",
       "    30% {\n",
       "      border-color: transparent;\n",
       "      border-left-color: var(--fill-color);\n",
       "      border-top-color: var(--fill-color);\n",
       "      border-right-color: var(--fill-color);\n",
       "    }\n",
       "    40% {\n",
       "      border-color: transparent;\n",
       "      border-right-color: var(--fill-color);\n",
       "      border-top-color: var(--fill-color);\n",
       "    }\n",
       "    60% {\n",
       "      border-color: transparent;\n",
       "      border-right-color: var(--fill-color);\n",
       "    }\n",
       "    80% {\n",
       "      border-color: transparent;\n",
       "      border-right-color: var(--fill-color);\n",
       "      border-bottom-color: var(--fill-color);\n",
       "    }\n",
       "    90% {\n",
       "      border-color: transparent;\n",
       "      border-bottom-color: var(--fill-color);\n",
       "    }\n",
       "  }\n",
       "</style>\n",
       "\n",
       "  <script>\n",
       "    async function quickchart(key) {\n",
       "      const quickchartButtonEl =\n",
       "        document.querySelector('#' + key + ' button');\n",
       "      quickchartButtonEl.disabled = true;  // To prevent multiple clicks.\n",
       "      quickchartButtonEl.classList.add('colab-df-spinner');\n",
       "      try {\n",
       "        const charts = await google.colab.kernel.invokeFunction(\n",
       "            'suggestCharts', [key], {});\n",
       "      } catch (error) {\n",
       "        console.error('Error during call to suggestCharts:', error);\n",
       "      }\n",
       "      quickchartButtonEl.classList.remove('colab-df-spinner');\n",
       "      quickchartButtonEl.classList.add('colab-df-quickchart-complete');\n",
       "    }\n",
       "    (() => {\n",
       "      let quickchartButtonEl =\n",
       "        document.querySelector('#df-181c1117-450a-4ed1-bdc6-c55da19ff0c8 button');\n",
       "      quickchartButtonEl.style.display =\n",
       "        google.colab.kernel.accessAllowed ? 'block' : 'none';\n",
       "    })();\n",
       "  </script>\n",
       "</div>\n",
       "    </div>\n",
       "  </div>\n"
      ],
      "text/plain": [
       "                             drugName      condition  \\\n",
       "22486                           Zovia  Birth Control   \n",
       "61531  Ethinyl estradiol / ethynodiol  Birth Control   \n",
       "\n",
       "                                                  review  rating  \\\n",
       "22486  \"Zovia cleared my acne and helped regulate my ...     2.0   \n",
       "61531  \"Zovia cleared my acne and helped regulate my ...     2.0   \n",
       "\n",
       "                  date  usefulCount  \n",
       "22486  August 21, 2013           11  \n",
       "61531  August 21, 2013           11  "
      ]
     },
     "execution_count": 7,
     "metadata": {},
     "output_type": "execute_result"
    }
   ],
   "source": [
    "# Drug is listed under generic and brandname\n",
    "train_df.loc[[22486, 61531]]"
   ]
  },
  {
   "cell_type": "code",
   "execution_count": null,
   "metadata": {
    "colab": {
     "base_uri": "https://localhost:8080/"
    },
    "id": "A3ZcVhyj_bgy",
    "outputId": "4b0f57b7-0fb4-41c4-f4c4-aa0800f5212e"
   },
   "outputs": [
    {
     "name": "stdout",
     "output_type": "stream",
     "text": [
      "There are 48968 duplicate reviews in the train data\n",
      "48731 duplicates were removed (30.212% of the train data)\n",
      "\n",
      "There are 5486 duplicate reviews in the test data\n",
      "5427 duplicates were removed (10.094% of the test data)\n"
     ]
    }
   ],
   "source": [
    "# Remove the records which duplicate review, rating, and date\n",
    "def remove_duplicates(df, data_set):\n",
    "  review_is_duped = df.review.duplicated()\n",
    "  print(f'There are {np.sum(review_is_duped)} duplicate reviews in the {data_set} data')\n",
    "\n",
    "  records_before = df.shape[0]\n",
    "  # Duplicates have the same review, rating, and data\n",
    "  df.drop_duplicates(['review', 'rating', 'date'], inplace = True)\n",
    "  records_after = df.shape[0]\n",
    "  removed = records_before - records_after\n",
    "  print(f'{removed} duplicates were removed ({round(removed/records_before*100, 3)}% of the {data_set} data)')\n",
    "\n",
    "# Process train and test\n",
    "remove_duplicates(train_df, 'train')\n",
    "print('')\n",
    "remove_duplicates(test_df, 'test')"
   ]
  },
  {
   "cell_type": "markdown",
   "metadata": {
    "id": "nXXJvLBtLGrc"
   },
   "source": [
    "### Process Review\n",
    "\n",
    "Finally, before our EDA we process the review text, producing a 'review_clean' column, which will be used as the basis for the EDA and our models. We first use the unescape method from the HTML library to decode HTML entities, such as quotation symbols and special characters which are present in the text as their HTML code representation. We then lowercase and strip the text of special characters."
   ]
  },
  {
   "cell_type": "code",
   "execution_count": null,
   "metadata": {
    "colab": {
     "base_uri": "https://localhost:8080/"
    },
    "id": "LUcUZorcHKst",
    "outputId": "c89845cf-1618-4900-bf65-29fc2048a6cb"
   },
   "outputs": [
    {
     "name": "stdout",
     "output_type": "stream",
     "text": [
      "Processing the train data . . .\n",
      "\tDone!\n",
      "Processing the test data . . .\n",
      "\tDone!\n"
     ]
    }
   ],
   "source": [
    "def process_reviews(df, data_set):\n",
    "  print(f'Processing the {data_set} data . . .')\n",
    "  # Unescape HTML codes\n",
    "  df['review'] = [html.unescape(review) for review in df.review]\n",
    "  # Create a new field for the processed reviews\n",
    "  df['review_clean'] = df['review']\n",
    "  # Convert to lowercase\n",
    "  df['review_clean'] = df['review_clean'].str.lower()\n",
    "  # Strip special characters, numbers, and other such non-alphabetic elements\n",
    "  df['review_clean'] = df['review_clean'].str.replace(r'[^a-zA-Z ]', ' ', regex = True)\n",
    "  print('\\tDone!')\n",
    "\n",
    "process_reviews(train_df, 'train')\n",
    "process_reviews(test_df, 'test')"
   ]
  },
  {
   "cell_type": "markdown",
   "metadata": {
    "id": "XE5mNYgY__pr"
   },
   "source": [
    "## EDA"
   ]
  },
  {
   "cell_type": "markdown",
   "metadata": {
    "id": "EjdWus-u9Xp-"
   },
   "source": [
    "### Basic Feature Summaries and Statistics"
   ]
  },
  {
   "cell_type": "markdown",
   "metadata": {
    "id": "AjMVhRHA3i4D"
   },
   "source": [
    "The summaries below show the wide variety of drugName and condition values (3,096 differnt drugs and 809 conditions), with the largest number of records being birth control medications. Unfortunately experimentation with these two features -- adding to the review_clean feature for modeling -- showed no improvement to our RNN models. So we will not be using either of these features in our modeling."
   ]
  },
  {
   "cell_type": "code",
   "execution_count": null,
   "metadata": {
    "colab": {
     "base_uri": "https://localhost:8080/"
    },
    "id": "1HO4MAxvilF9",
    "outputId": "f4f0bc59-5c5f-48d6-c6f2-8600de9f4c28"
   },
   "outputs": [
    {
     "data": {
      "text/plain": [
       "Levonorgestrel                       2318\n",
       "Etonogestrel                         2074\n",
       "Ethinyl estradiol / norethindrone    1749\n",
       "Phentermine                          1386\n",
       "Ethinyl estradiol / norgestimate     1374\n",
       "                                     ... \n",
       "Unisom SleepMelts                       1\n",
       "Duet DHA                                1\n",
       "Viramune                                1\n",
       "Plegridy                                1\n",
       "Aldomet                                 1\n",
       "Name: drugName, Length: 3096, dtype: int64"
      ]
     },
     "execution_count": 12,
     "metadata": {},
     "output_type": "execute_result"
    }
   ],
   "source": [
    "train_df['drugName'].value_counts()"
   ]
  },
  {
   "cell_type": "code",
   "execution_count": null,
   "metadata": {
    "colab": {
     "base_uri": "https://localhost:8080/"
    },
    "id": "HyFx6ObLqxj3",
    "outputId": "bd0d0d6e-d782-424f-afa5-6b8f47156355"
   },
   "outputs": [
    {
     "data": {
      "text/plain": [
       "Birth Control       18134\n",
       "Depression           6291\n",
       "Pain                 4457\n",
       "Anxiety              4341\n",
       "Acne                 3955\n",
       "                    ...  \n",
       "Cholera                 1\n",
       "AV Heart Block          1\n",
       "Wilson's Disease        1\n",
       "Sepsis                  1\n",
       "Neutropenia             1\n",
       "Name: condition, Length: 809, dtype: int64"
      ]
     },
     "execution_count": 13,
     "metadata": {},
     "output_type": "execute_result"
    }
   ],
   "source": [
    "train_df['condition'].value_counts()"
   ]
  },
  {
   "cell_type": "markdown",
   "metadata": {
    "id": "_lUtKScH5bir"
   },
   "source": [
    "Below we compute summary statistics of rating and plot a histogram. Additionally, we get statistics on usefulCount, but because we do not use this feature we do not spend time analyzing its characteristics.\n",
    "\n",
    "Reasonably, rating values range from 1 to 10, with the distribution biasing heavily towards higher scores (the median value is 8.0) despite a large sample in the lowest possible score. This is suggestive of a commonly observed bias in user/consumer ratings (reporter bias) where those with strong opinions/experiences dominate the response pool while those with expected or acceptable results do not respond. This would explain the low sample in scores 2.0 through 6.0.\n",
    "\n"
   ]
  },
  {
   "cell_type": "code",
   "execution_count": null,
   "metadata": {
    "colab": {
     "base_uri": "https://localhost:8080/",
     "height": 300
    },
    "id": "R_VlZvyHqxrg",
    "outputId": "459bf208-bf8c-4ece-f031-9e5292d536c1"
   },
   "outputs": [
    {
     "data": {
      "text/html": [
       "\n",
       "  <div id=\"df-e6295bd6-4f5b-48f0-9f13-2518b2543299\" class=\"colab-df-container\">\n",
       "    <div>\n",
       "<style scoped>\n",
       "    .dataframe tbody tr th:only-of-type {\n",
       "        vertical-align: middle;\n",
       "    }\n",
       "\n",
       "    .dataframe tbody tr th {\n",
       "        vertical-align: top;\n",
       "    }\n",
       "\n",
       "    .dataframe thead th {\n",
       "        text-align: right;\n",
       "    }\n",
       "</style>\n",
       "<table border=\"1\" class=\"dataframe\">\n",
       "  <thead>\n",
       "    <tr style=\"text-align: right;\">\n",
       "      <th></th>\n",
       "      <th>rating</th>\n",
       "      <th>usefulCount</th>\n",
       "    </tr>\n",
       "  </thead>\n",
       "  <tbody>\n",
       "    <tr>\n",
       "      <th>count</th>\n",
       "      <td>112566.000000</td>\n",
       "      <td>112566.00000</td>\n",
       "    </tr>\n",
       "    <tr>\n",
       "      <th>mean</th>\n",
       "      <td>7.000098</td>\n",
       "      <td>27.42639</td>\n",
       "    </tr>\n",
       "    <tr>\n",
       "      <th>std</th>\n",
       "      <td>3.271169</td>\n",
       "      <td>35.66415</td>\n",
       "    </tr>\n",
       "    <tr>\n",
       "      <th>min</th>\n",
       "      <td>1.000000</td>\n",
       "      <td>0.00000</td>\n",
       "    </tr>\n",
       "    <tr>\n",
       "      <th>25%</th>\n",
       "      <td>5.000000</td>\n",
       "      <td>6.00000</td>\n",
       "    </tr>\n",
       "    <tr>\n",
       "      <th>50%</th>\n",
       "      <td>8.000000</td>\n",
       "      <td>16.00000</td>\n",
       "    </tr>\n",
       "    <tr>\n",
       "      <th>75%</th>\n",
       "      <td>10.000000</td>\n",
       "      <td>36.00000</td>\n",
       "    </tr>\n",
       "    <tr>\n",
       "      <th>max</th>\n",
       "      <td>10.000000</td>\n",
       "      <td>1291.00000</td>\n",
       "    </tr>\n",
       "  </tbody>\n",
       "</table>\n",
       "</div>\n",
       "    <div class=\"colab-df-buttons\">\n",
       "\n",
       "  <div class=\"colab-df-container\">\n",
       "    <button class=\"colab-df-convert\" onclick=\"convertToInteractive('df-e6295bd6-4f5b-48f0-9f13-2518b2543299')\"\n",
       "            title=\"Convert this dataframe to an interactive table.\"\n",
       "            style=\"display:none;\">\n",
       "\n",
       "  <svg xmlns=\"http://www.w3.org/2000/svg\" height=\"24px\" viewBox=\"0 -960 960 960\">\n",
       "    <path d=\"M120-120v-720h720v720H120Zm60-500h600v-160H180v160Zm220 220h160v-160H400v160Zm0 220h160v-160H400v160ZM180-400h160v-160H180v160Zm440 0h160v-160H620v160ZM180-180h160v-160H180v160Zm440 0h160v-160H620v160Z\"/>\n",
       "  </svg>\n",
       "    </button>\n",
       "\n",
       "  <style>\n",
       "    .colab-df-container {\n",
       "      display:flex;\n",
       "      gap: 12px;\n",
       "    }\n",
       "\n",
       "    .colab-df-convert {\n",
       "      background-color: #E8F0FE;\n",
       "      border: none;\n",
       "      border-radius: 50%;\n",
       "      cursor: pointer;\n",
       "      display: none;\n",
       "      fill: #1967D2;\n",
       "      height: 32px;\n",
       "      padding: 0 0 0 0;\n",
       "      width: 32px;\n",
       "    }\n",
       "\n",
       "    .colab-df-convert:hover {\n",
       "      background-color: #E2EBFA;\n",
       "      box-shadow: 0px 1px 2px rgba(60, 64, 67, 0.3), 0px 1px 3px 1px rgba(60, 64, 67, 0.15);\n",
       "      fill: #174EA6;\n",
       "    }\n",
       "\n",
       "    .colab-df-buttons div {\n",
       "      margin-bottom: 4px;\n",
       "    }\n",
       "\n",
       "    [theme=dark] .colab-df-convert {\n",
       "      background-color: #3B4455;\n",
       "      fill: #D2E3FC;\n",
       "    }\n",
       "\n",
       "    [theme=dark] .colab-df-convert:hover {\n",
       "      background-color: #434B5C;\n",
       "      box-shadow: 0px 1px 3px 1px rgba(0, 0, 0, 0.15);\n",
       "      filter: drop-shadow(0px 1px 2px rgba(0, 0, 0, 0.3));\n",
       "      fill: #FFFFFF;\n",
       "    }\n",
       "  </style>\n",
       "\n",
       "    <script>\n",
       "      const buttonEl =\n",
       "        document.querySelector('#df-e6295bd6-4f5b-48f0-9f13-2518b2543299 button.colab-df-convert');\n",
       "      buttonEl.style.display =\n",
       "        google.colab.kernel.accessAllowed ? 'block' : 'none';\n",
       "\n",
       "      async function convertToInteractive(key) {\n",
       "        const element = document.querySelector('#df-e6295bd6-4f5b-48f0-9f13-2518b2543299');\n",
       "        const dataTable =\n",
       "          await google.colab.kernel.invokeFunction('convertToInteractive',\n",
       "                                                    [key], {});\n",
       "        if (!dataTable) return;\n",
       "\n",
       "        const docLinkHtml = 'Like what you see? Visit the ' +\n",
       "          '<a target=\"_blank\" href=https://colab.research.google.com/notebooks/data_table.ipynb>data table notebook</a>'\n",
       "          + ' to learn more about interactive tables.';\n",
       "        element.innerHTML = '';\n",
       "        dataTable['output_type'] = 'display_data';\n",
       "        await google.colab.output.renderOutput(dataTable, element);\n",
       "        const docLink = document.createElement('div');\n",
       "        docLink.innerHTML = docLinkHtml;\n",
       "        element.appendChild(docLink);\n",
       "      }\n",
       "    </script>\n",
       "  </div>\n",
       "\n",
       "\n",
       "<div id=\"df-5e78c25b-7cf8-4a86-907b-c93d3c847e4b\">\n",
       "  <button class=\"colab-df-quickchart\" onclick=\"quickchart('df-5e78c25b-7cf8-4a86-907b-c93d3c847e4b')\"\n",
       "            title=\"Suggest charts.\"\n",
       "            style=\"display:none;\">\n",
       "\n",
       "<svg xmlns=\"http://www.w3.org/2000/svg\" height=\"24px\"viewBox=\"0 0 24 24\"\n",
       "     width=\"24px\">\n",
       "    <g>\n",
       "        <path d=\"M19 3H5c-1.1 0-2 .9-2 2v14c0 1.1.9 2 2 2h14c1.1 0 2-.9 2-2V5c0-1.1-.9-2-2-2zM9 17H7v-7h2v7zm4 0h-2V7h2v10zm4 0h-2v-4h2v4z\"/>\n",
       "    </g>\n",
       "</svg>\n",
       "  </button>\n",
       "\n",
       "<style>\n",
       "  .colab-df-quickchart {\n",
       "      --bg-color: #E8F0FE;\n",
       "      --fill-color: #1967D2;\n",
       "      --hover-bg-color: #E2EBFA;\n",
       "      --hover-fill-color: #174EA6;\n",
       "      --disabled-fill-color: #AAA;\n",
       "      --disabled-bg-color: #DDD;\n",
       "  }\n",
       "\n",
       "  [theme=dark] .colab-df-quickchart {\n",
       "      --bg-color: #3B4455;\n",
       "      --fill-color: #D2E3FC;\n",
       "      --hover-bg-color: #434B5C;\n",
       "      --hover-fill-color: #FFFFFF;\n",
       "      --disabled-bg-color: #3B4455;\n",
       "      --disabled-fill-color: #666;\n",
       "  }\n",
       "\n",
       "  .colab-df-quickchart {\n",
       "    background-color: var(--bg-color);\n",
       "    border: none;\n",
       "    border-radius: 50%;\n",
       "    cursor: pointer;\n",
       "    display: none;\n",
       "    fill: var(--fill-color);\n",
       "    height: 32px;\n",
       "    padding: 0;\n",
       "    width: 32px;\n",
       "  }\n",
       "\n",
       "  .colab-df-quickchart:hover {\n",
       "    background-color: var(--hover-bg-color);\n",
       "    box-shadow: 0 1px 2px rgba(60, 64, 67, 0.3), 0 1px 3px 1px rgba(60, 64, 67, 0.15);\n",
       "    fill: var(--button-hover-fill-color);\n",
       "  }\n",
       "\n",
       "  .colab-df-quickchart-complete:disabled,\n",
       "  .colab-df-quickchart-complete:disabled:hover {\n",
       "    background-color: var(--disabled-bg-color);\n",
       "    fill: var(--disabled-fill-color);\n",
       "    box-shadow: none;\n",
       "  }\n",
       "\n",
       "  .colab-df-spinner {\n",
       "    border: 2px solid var(--fill-color);\n",
       "    border-color: transparent;\n",
       "    border-bottom-color: var(--fill-color);\n",
       "    animation:\n",
       "      spin 1s steps(1) infinite;\n",
       "  }\n",
       "\n",
       "  @keyframes spin {\n",
       "    0% {\n",
       "      border-color: transparent;\n",
       "      border-bottom-color: var(--fill-color);\n",
       "      border-left-color: var(--fill-color);\n",
       "    }\n",
       "    20% {\n",
       "      border-color: transparent;\n",
       "      border-left-color: var(--fill-color);\n",
       "      border-top-color: var(--fill-color);\n",
       "    }\n",
       "    30% {\n",
       "      border-color: transparent;\n",
       "      border-left-color: var(--fill-color);\n",
       "      border-top-color: var(--fill-color);\n",
       "      border-right-color: var(--fill-color);\n",
       "    }\n",
       "    40% {\n",
       "      border-color: transparent;\n",
       "      border-right-color: var(--fill-color);\n",
       "      border-top-color: var(--fill-color);\n",
       "    }\n",
       "    60% {\n",
       "      border-color: transparent;\n",
       "      border-right-color: var(--fill-color);\n",
       "    }\n",
       "    80% {\n",
       "      border-color: transparent;\n",
       "      border-right-color: var(--fill-color);\n",
       "      border-bottom-color: var(--fill-color);\n",
       "    }\n",
       "    90% {\n",
       "      border-color: transparent;\n",
       "      border-bottom-color: var(--fill-color);\n",
       "    }\n",
       "  }\n",
       "</style>\n",
       "\n",
       "  <script>\n",
       "    async function quickchart(key) {\n",
       "      const quickchartButtonEl =\n",
       "        document.querySelector('#' + key + ' button');\n",
       "      quickchartButtonEl.disabled = true;  // To prevent multiple clicks.\n",
       "      quickchartButtonEl.classList.add('colab-df-spinner');\n",
       "      try {\n",
       "        const charts = await google.colab.kernel.invokeFunction(\n",
       "            'suggestCharts', [key], {});\n",
       "      } catch (error) {\n",
       "        console.error('Error during call to suggestCharts:', error);\n",
       "      }\n",
       "      quickchartButtonEl.classList.remove('colab-df-spinner');\n",
       "      quickchartButtonEl.classList.add('colab-df-quickchart-complete');\n",
       "    }\n",
       "    (() => {\n",
       "      let quickchartButtonEl =\n",
       "        document.querySelector('#df-5e78c25b-7cf8-4a86-907b-c93d3c847e4b button');\n",
       "      quickchartButtonEl.style.display =\n",
       "        google.colab.kernel.accessAllowed ? 'block' : 'none';\n",
       "    })();\n",
       "  </script>\n",
       "</div>\n",
       "    </div>\n",
       "  </div>\n"
      ],
      "text/plain": [
       "              rating   usefulCount\n",
       "count  112566.000000  112566.00000\n",
       "mean        7.000098      27.42639\n",
       "std         3.271169      35.66415\n",
       "min         1.000000       0.00000\n",
       "25%         5.000000       6.00000\n",
       "50%         8.000000      16.00000\n",
       "75%        10.000000      36.00000\n",
       "max        10.000000    1291.00000"
      ]
     },
     "execution_count": 14,
     "metadata": {},
     "output_type": "execute_result"
    }
   ],
   "source": [
    "train_df.describe()"
   ]
  },
  {
   "cell_type": "code",
   "execution_count": null,
   "metadata": {
    "colab": {
     "base_uri": "https://localhost:8080/",
     "height": 483
    },
    "id": "74GK5e1RKAqZ",
    "outputId": "2d247e27-8504-4c69-b49e-fd02c3f1768b"
   },
   "outputs": [
    {
     "data": {
      "text/plain": [
       "<Axes: xlabel='rating'>"
      ]
     },
     "execution_count": 15,
     "metadata": {},
     "output_type": "execute_result"
    },
    {
     "data": {
      "image/png": "[encoded data removed]",
      "text/plain": [
       "<Figure size 640x480 with 1 Axes>"
      ]
     },
     "metadata": {},
     "output_type": "display_data"
    }
   ],
   "source": [
    "train_df.groupby(['rating'])['rating'].count().plot.bar()"
   ]
  },
  {
   "cell_type": "markdown",
   "metadata": {
    "id": "mN_DMlzX9eFk"
   },
   "source": [
    "### Summaries and Statistics of Engineered Features\n",
    "\n",
    "Below we define three new features based on review_clean\n",
    "\n",
    "1. review_words: Tokenized text split on white space (as special characters have been removed, a contraction such as \"I'm\" will be tokenized as \"I, m\", for example);\n",
    "\n",
    "2. review_len: The total length of the review_clean text; and\n",
    "\n",
    "3. review_num_words: The number of \"words\" (tokens) in review_words.\n",
    "\n",
    "We then compute overall summary statistics, as well as min, max, and average values by rating on the second two. Notably, the min and max in both features are abnormal, indicating the presence of both reviews with no valid words and reviews the length of a small essay. But these are the realities faced by real-world models considering free-form user input. Interestingly, we see the greatest outlier in terms of length and word count rated the drug at a 2.0. Beyond this oddity, we see the ratings with the highest sample exhibiting the greatest variance in review length and words.\n",
    "\n",
    "Most reviews are around 450 characters long and most consist of around 84 words. We see signifcant outliers in length and word count in each rating."
   ]
  },
  {
   "cell_type": "code",
   "execution_count": null,
   "metadata": {
    "colab": {
     "base_uri": "https://localhost:8080/",
     "height": 617
    },
    "id": "u8I4flbMqxxb",
    "outputId": "67393450-cd69-46ab-c6e9-4bde1e89516b"
   },
   "outputs": [
    {
     "name": "stdout",
     "output_type": "stream",
     "text": [
      "          review_len  review_num_words\n",
      "count  112566.000000     112566.000000\n",
      "mean      445.298181         84.310085\n",
      "std       237.029467         45.132089\n",
      "min         0.000000          0.000000\n",
      "25%       253.000000         48.000000\n",
      "50%       441.000000         84.000000\n",
      "75%       673.000000        126.000000\n",
      "max     10428.000000       1917.000000\n",
      "\n",
      "Review length and word/token count by rating (mean, min, max):\n"
     ]
    },
    {
     "data": {
      "text/html": [
       "\n",
       "  <div id=\"df-278f992d-c8ec-49e1-afec-0a59c7c33361\" class=\"colab-df-container\">\n",
       "    <div>\n",
       "<style scoped>\n",
       "    .dataframe tbody tr th:only-of-type {\n",
       "        vertical-align: middle;\n",
       "    }\n",
       "\n",
       "    .dataframe tbody tr th {\n",
       "        vertical-align: top;\n",
       "    }\n",
       "\n",
       "    .dataframe thead tr th {\n",
       "        text-align: left;\n",
       "    }\n",
       "\n",
       "    .dataframe thead tr:last-of-type th {\n",
       "        text-align: right;\n",
       "    }\n",
       "</style>\n",
       "<table border=\"1\" class=\"dataframe\">\n",
       "  <thead>\n",
       "    <tr>\n",
       "      <th></th>\n",
       "      <th colspan=\"4\" halign=\"left\">review_len</th>\n",
       "      <th colspan=\"4\" halign=\"left\">review_num_words</th>\n",
       "    </tr>\n",
       "    <tr>\n",
       "      <th></th>\n",
       "      <th>mean</th>\n",
       "      <th>median</th>\n",
       "      <th>min</th>\n",
       "      <th>max</th>\n",
       "      <th>mean</th>\n",
       "      <th>median</th>\n",
       "      <th>min</th>\n",
       "      <th>max</th>\n",
       "    </tr>\n",
       "    <tr>\n",
       "      <th>rating</th>\n",
       "      <th></th>\n",
       "      <th></th>\n",
       "      <th></th>\n",
       "      <th></th>\n",
       "      <th></th>\n",
       "      <th></th>\n",
       "      <th></th>\n",
       "      <th></th>\n",
       "    </tr>\n",
       "  </thead>\n",
       "  <tbody>\n",
       "    <tr>\n",
       "      <th>1.0</th>\n",
       "      <td>414.577425</td>\n",
       "      <td>390.0</td>\n",
       "      <td>3</td>\n",
       "      <td>3659</td>\n",
       "      <td>78.205098</td>\n",
       "      <td>73.0</td>\n",
       "      <td>1</td>\n",
       "      <td>710</td>\n",
       "    </tr>\n",
       "    <tr>\n",
       "      <th>2.0</th>\n",
       "      <td>439.662713</td>\n",
       "      <td>432.0</td>\n",
       "      <td>7</td>\n",
       "      <td>10428</td>\n",
       "      <td>83.258843</td>\n",
       "      <td>82.0</td>\n",
       "      <td>2</td>\n",
       "      <td>1917</td>\n",
       "    </tr>\n",
       "    <tr>\n",
       "      <th>3.0</th>\n",
       "      <td>445.090767</td>\n",
       "      <td>438.0</td>\n",
       "      <td>6</td>\n",
       "      <td>4988</td>\n",
       "      <td>84.570696</td>\n",
       "      <td>84.0</td>\n",
       "      <td>1</td>\n",
       "      <td>888</td>\n",
       "    </tr>\n",
       "    <tr>\n",
       "      <th>4.0</th>\n",
       "      <td>448.638255</td>\n",
       "      <td>441.0</td>\n",
       "      <td>4</td>\n",
       "      <td>2952</td>\n",
       "      <td>85.331407</td>\n",
       "      <td>84.0</td>\n",
       "      <td>1</td>\n",
       "      <td>561</td>\n",
       "    </tr>\n",
       "    <tr>\n",
       "      <th>5.0</th>\n",
       "      <td>461.985328</td>\n",
       "      <td>463.0</td>\n",
       "      <td>4</td>\n",
       "      <td>1955</td>\n",
       "      <td>87.927894</td>\n",
       "      <td>89.0</td>\n",
       "      <td>1</td>\n",
       "      <td>385</td>\n",
       "    </tr>\n",
       "    <tr>\n",
       "      <th>6.0</th>\n",
       "      <td>452.140915</td>\n",
       "      <td>450.0</td>\n",
       "      <td>2</td>\n",
       "      <td>2122</td>\n",
       "      <td>85.860444</td>\n",
       "      <td>86.0</td>\n",
       "      <td>1</td>\n",
       "      <td>376</td>\n",
       "    </tr>\n",
       "    <tr>\n",
       "      <th>7.0</th>\n",
       "      <td>468.782150</td>\n",
       "      <td>479.0</td>\n",
       "      <td>4</td>\n",
       "      <td>2955</td>\n",
       "      <td>89.033771</td>\n",
       "      <td>91.0</td>\n",
       "      <td>1</td>\n",
       "      <td>585</td>\n",
       "    </tr>\n",
       "    <tr>\n",
       "      <th>8.0</th>\n",
       "      <td>468.868119</td>\n",
       "      <td>479.5</td>\n",
       "      <td>1</td>\n",
       "      <td>3984</td>\n",
       "      <td>88.762931</td>\n",
       "      <td>91.0</td>\n",
       "      <td>1</td>\n",
       "      <td>758</td>\n",
       "    </tr>\n",
       "    <tr>\n",
       "      <th>9.0</th>\n",
       "      <td>464.311328</td>\n",
       "      <td>471.0</td>\n",
       "      <td>1</td>\n",
       "      <td>6069</td>\n",
       "      <td>87.818101</td>\n",
       "      <td>89.0</td>\n",
       "      <td>1</td>\n",
       "      <td>1106</td>\n",
       "    </tr>\n",
       "    <tr>\n",
       "      <th>10.0</th>\n",
       "      <td>431.967777</td>\n",
       "      <td>423.0</td>\n",
       "      <td>0</td>\n",
       "      <td>6080</td>\n",
       "      <td>81.728869</td>\n",
       "      <td>80.0</td>\n",
       "      <td>0</td>\n",
       "      <td>1169</td>\n",
       "    </tr>\n",
       "  </tbody>\n",
       "</table>\n",
       "</div>\n",
       "    <div class=\"colab-df-buttons\">\n",
       "\n",
       "  <div class=\"colab-df-container\">\n",
       "    <button class=\"colab-df-convert\" onclick=\"convertToInteractive('df-278f992d-c8ec-49e1-afec-0a59c7c33361')\"\n",
       "            title=\"Convert this dataframe to an interactive table.\"\n",
       "            style=\"display:none;\">\n",
       "\n",
       "  <svg xmlns=\"http://www.w3.org/2000/svg\" height=\"24px\" viewBox=\"0 -960 960 960\">\n",
       "    <path d=\"M120-120v-720h720v720H120Zm60-500h600v-160H180v160Zm220 220h160v-160H400v160Zm0 220h160v-160H400v160ZM180-400h160v-160H180v160Zm440 0h160v-160H620v160ZM180-180h160v-160H180v160Zm440 0h160v-160H620v160Z\"/>\n",
       "  </svg>\n",
       "    </button>\n",
       "\n",
       "  <style>\n",
       "    .colab-df-container {\n",
       "      display:flex;\n",
       "      gap: 12px;\n",
       "    }\n",
       "\n",
       "    .colab-df-convert {\n",
       "      background-color: #E8F0FE;\n",
       "      border: none;\n",
       "      border-radius: 50%;\n",
       "      cursor: pointer;\n",
       "      display: none;\n",
       "      fill: #1967D2;\n",
       "      height: 32px;\n",
       "      padding: 0 0 0 0;\n",
       "      width: 32px;\n",
       "    }\n",
       "\n",
       "    .colab-df-convert:hover {\n",
       "      background-color: #E2EBFA;\n",
       "      box-shadow: 0px 1px 2px rgba(60, 64, 67, 0.3), 0px 1px 3px 1px rgba(60, 64, 67, 0.15);\n",
       "      fill: #174EA6;\n",
       "    }\n",
       "\n",
       "    .colab-df-buttons div {\n",
       "      margin-bottom: 4px;\n",
       "    }\n",
       "\n",
       "    [theme=dark] .colab-df-convert {\n",
       "      background-color: #3B4455;\n",
       "      fill: #D2E3FC;\n",
       "    }\n",
       "\n",
       "    [theme=dark] .colab-df-convert:hover {\n",
       "      background-color: #434B5C;\n",
       "      box-shadow: 0px 1px 3px 1px rgba(0, 0, 0, 0.15);\n",
       "      filter: drop-shadow(0px 1px 2px rgba(0, 0, 0, 0.3));\n",
       "      fill: #FFFFFF;\n",
       "    }\n",
       "  </style>\n",
       "\n",
       "    <script>\n",
       "      const buttonEl =\n",
       "        document.querySelector('#df-278f992d-c8ec-49e1-afec-0a59c7c33361 button.colab-df-convert');\n",
       "      buttonEl.style.display =\n",
       "        google.colab.kernel.accessAllowed ? 'block' : 'none';\n",
       "\n",
       "      async function convertToInteractive(key) {\n",
       "        const element = document.querySelector('#df-278f992d-c8ec-49e1-afec-0a59c7c33361');\n",
       "        const dataTable =\n",
       "          await google.colab.kernel.invokeFunction('convertToInteractive',\n",
       "                                                    [key], {});\n",
       "        if (!dataTable) return;\n",
       "\n",
       "        const docLinkHtml = 'Like what you see? Visit the ' +\n",
       "          '<a target=\"_blank\" href=https://colab.research.google.com/notebooks/data_table.ipynb>data table notebook</a>'\n",
       "          + ' to learn more about interactive tables.';\n",
       "        element.innerHTML = '';\n",
       "        dataTable['output_type'] = 'display_data';\n",
       "        await google.colab.output.renderOutput(dataTable, element);\n",
       "        const docLink = document.createElement('div');\n",
       "        docLink.innerHTML = docLinkHtml;\n",
       "        element.appendChild(docLink);\n",
       "      }\n",
       "    </script>\n",
       "  </div>\n",
       "\n",
       "\n",
       "<div id=\"df-dcd06e05-37bf-4407-948b-73bd6eb08f01\">\n",
       "  <button class=\"colab-df-quickchart\" onclick=\"quickchart('df-dcd06e05-37bf-4407-948b-73bd6eb08f01')\"\n",
       "            title=\"Suggest charts.\"\n",
       "            style=\"display:none;\">\n",
       "\n",
       "<svg xmlns=\"http://www.w3.org/2000/svg\" height=\"24px\"viewBox=\"0 0 24 24\"\n",
       "     width=\"24px\">\n",
       "    <g>\n",
       "        <path d=\"M19 3H5c-1.1 0-2 .9-2 2v14c0 1.1.9 2 2 2h14c1.1 0 2-.9 2-2V5c0-1.1-.9-2-2-2zM9 17H7v-7h2v7zm4 0h-2V7h2v10zm4 0h-2v-4h2v4z\"/>\n",
       "    </g>\n",
       "</svg>\n",
       "  </button>\n",
       "\n",
       "<style>\n",
       "  .colab-df-quickchart {\n",
       "      --bg-color: #E8F0FE;\n",
       "      --fill-color: #1967D2;\n",
       "      --hover-bg-color: #E2EBFA;\n",
       "      --hover-fill-color: #174EA6;\n",
       "      --disabled-fill-color: #AAA;\n",
       "      --disabled-bg-color: #DDD;\n",
       "  }\n",
       "\n",
       "  [theme=dark] .colab-df-quickchart {\n",
       "      --bg-color: #3B4455;\n",
       "      --fill-color: #D2E3FC;\n",
       "      --hover-bg-color: #434B5C;\n",
       "      --hover-fill-color: #FFFFFF;\n",
       "      --disabled-bg-color: #3B4455;\n",
       "      --disabled-fill-color: #666;\n",
       "  }\n",
       "\n",
       "  .colab-df-quickchart {\n",
       "    background-color: var(--bg-color);\n",
       "    border: none;\n",
       "    border-radius: 50%;\n",
       "    cursor: pointer;\n",
       "    display: none;\n",
       "    fill: var(--fill-color);\n",
       "    height: 32px;\n",
       "    padding: 0;\n",
       "    width: 32px;\n",
       "  }\n",
       "\n",
       "  .colab-df-quickchart:hover {\n",
       "    background-color: var(--hover-bg-color);\n",
       "    box-shadow: 0 1px 2px rgba(60, 64, 67, 0.3), 0 1px 3px 1px rgba(60, 64, 67, 0.15);\n",
       "    fill: var(--button-hover-fill-color);\n",
       "  }\n",
       "\n",
       "  .colab-df-quickchart-complete:disabled,\n",
       "  .colab-df-quickchart-complete:disabled:hover {\n",
       "    background-color: var(--disabled-bg-color);\n",
       "    fill: var(--disabled-fill-color);\n",
       "    box-shadow: none;\n",
       "  }\n",
       "\n",
       "  .colab-df-spinner {\n",
       "    border: 2px solid var(--fill-color);\n",
       "    border-color: transparent;\n",
       "    border-bottom-color: var(--fill-color);\n",
       "    animation:\n",
       "      spin 1s steps(1) infinite;\n",
       "  }\n",
       "\n",
       "  @keyframes spin {\n",
       "    0% {\n",
       "      border-color: transparent;\n",
       "      border-bottom-color: var(--fill-color);\n",
       "      border-left-color: var(--fill-color);\n",
       "    }\n",
       "    20% {\n",
       "      border-color: transparent;\n",
       "      border-left-color: var(--fill-color);\n",
       "      border-top-color: var(--fill-color);\n",
       "    }\n",
       "    30% {\n",
       "      border-color: transparent;\n",
       "      border-left-color: var(--fill-color);\n",
       "      border-top-color: var(--fill-color);\n",
       "      border-right-color: var(--fill-color);\n",
       "    }\n",
       "    40% {\n",
       "      border-color: transparent;\n",
       "      border-right-color: var(--fill-color);\n",
       "      border-top-color: var(--fill-color);\n",
       "    }\n",
       "    60% {\n",
       "      border-color: transparent;\n",
       "      border-right-color: var(--fill-color);\n",
       "    }\n",
       "    80% {\n",
       "      border-color: transparent;\n",
       "      border-right-color: var(--fill-color);\n",
       "      border-bottom-color: var(--fill-color);\n",
       "    }\n",
       "    90% {\n",
       "      border-color: transparent;\n",
       "      border-bottom-color: var(--fill-color);\n",
       "    }\n",
       "  }\n",
       "</style>\n",
       "\n",
       "  <script>\n",
       "    async function quickchart(key) {\n",
       "      const quickchartButtonEl =\n",
       "        document.querySelector('#' + key + ' button');\n",
       "      quickchartButtonEl.disabled = true;  // To prevent multiple clicks.\n",
       "      quickchartButtonEl.classList.add('colab-df-spinner');\n",
       "      try {\n",
       "        const charts = await google.colab.kernel.invokeFunction(\n",
       "            'suggestCharts', [key], {});\n",
       "      } catch (error) {\n",
       "        console.error('Error during call to suggestCharts:', error);\n",
       "      }\n",
       "      quickchartButtonEl.classList.remove('colab-df-spinner');\n",
       "      quickchartButtonEl.classList.add('colab-df-quickchart-complete');\n",
       "    }\n",
       "    (() => {\n",
       "      let quickchartButtonEl =\n",
       "        document.querySelector('#df-dcd06e05-37bf-4407-948b-73bd6eb08f01 button');\n",
       "      quickchartButtonEl.style.display =\n",
       "        google.colab.kernel.accessAllowed ? 'block' : 'none';\n",
       "    })();\n",
       "  </script>\n",
       "</div>\n",
       "    </div>\n",
       "  </div>\n"
      ],
      "text/plain": [
       "        review_len                   review_num_words                 \n",
       "              mean median min    max             mean median min   max\n",
       "rating                                                                \n",
       "1.0     414.577425  390.0   3   3659        78.205098   73.0   1   710\n",
       "2.0     439.662713  432.0   7  10428        83.258843   82.0   2  1917\n",
       "3.0     445.090767  438.0   6   4988        84.570696   84.0   1   888\n",
       "4.0     448.638255  441.0   4   2952        85.331407   84.0   1   561\n",
       "5.0     461.985328  463.0   4   1955        87.927894   89.0   1   385\n",
       "6.0     452.140915  450.0   2   2122        85.860444   86.0   1   376\n",
       "7.0     468.782150  479.0   4   2955        89.033771   91.0   1   585\n",
       "8.0     468.868119  479.5   1   3984        88.762931   91.0   1   758\n",
       "9.0     464.311328  471.0   1   6069        87.818101   89.0   1  1106\n",
       "10.0    431.967777  423.0   0   6080        81.728869   80.0   0  1169"
      ]
     },
     "execution_count": 8,
     "metadata": {},
     "output_type": "execute_result"
    }
   ],
   "source": [
    "train_df['review_words'] = train_df['review_clean'].str.split()\n",
    "train_df['review_len'] = train_df['review_clean'].str.strip().str.len()\n",
    "train_df['review_num_words'] = train_df['review_words'].str.len()\n",
    "\n",
    "print(train_df[['review_len', 'review_num_words']].describe())\n",
    "print('\\nReview length and word/token count by rating (mean, min, max):')\n",
    "train_df[['rating', 'review_len', 'review_num_words']].groupby(['rating']).agg(['mean', 'median', 'min', 'max'])"
   ]
  },
  {
   "cell_type": "code",
   "execution_count": null,
   "metadata": {
    "colab": {
     "base_uri": "https://localhost:8080/",
     "height": 495
    },
    "id": "qq16YR3VPZOP",
    "outputId": "26da37bf-3d5c-4cda-c98a-86c632e9db9e"
   },
   "outputs": [
    {
     "data": {
      "text/plain": [
       "<Axes: title={'center': 'review_len'}, xlabel='[rating]'>"
      ]
     },
     "execution_count": 17,
     "metadata": {},
     "output_type": "execute_result"
    },
    {
     "data": {
      "image/png": "[encoded data removed]",
      "text/plain": [
       "<Figure size 640x480 with 1 Axes>"
      ]
     },
     "metadata": {},
     "output_type": "display_data"
    }
   ],
   "source": [
    "train_df.boxplot(column = ['review_len'], by = ['rating'])"
   ]
  },
  {
   "cell_type": "code",
   "execution_count": null,
   "metadata": {
    "colab": {
     "base_uri": "https://localhost:8080/",
     "height": 495
    },
    "id": "zBVDs76QPiAF",
    "outputId": "f0569aed-f7a8-4098-daba-476cbda688eb"
   },
   "outputs": [
    {
     "data": {
      "text/plain": [
       "<Axes: title={'center': 'review_num_words'}, xlabel='[rating]'>"
      ]
     },
     "execution_count": 18,
     "metadata": {},
     "output_type": "execute_result"
    },
    {
     "data": {
      "image/png": "[encoded data removed]",
      "text/plain": [
       "<Figure size 640x480 with 1 Axes>"
      ]
     },
     "metadata": {},
     "output_type": "display_data"
    }
   ],
   "source": [
    "train_df.boxplot(column = ['review_num_words'], by = ['rating'])"
   ]
  },
  {
   "cell_type": "markdown",
   "metadata": {
    "id": "ZyB9Q4zBEoKj"
   },
   "source": [
    "Before moving on from our EDA into preparing for modeling, we review the most common tokens in our corpus of reviews. Below we flatten all reviews into a single set and count the occurances of each token. This shows there are just shy of 46K tokens across all training reviews. As expected for such a collection, the top words are articles, basic prepositions, and simple words, which will be of little use in our models."
   ]
  },
  {
   "cell_type": "code",
   "execution_count": null,
   "metadata": {
    "colab": {
     "base_uri": "https://localhost:8080/"
    },
    "id": "Coaqgb4mqx23",
    "outputId": "fd877783-c686-4d46-e9bb-62a398bcbc6d"
   },
   "outputs": [
    {
     "name": "stdout",
     "output_type": "stream",
     "text": [
      "There are 45910 distinct words/tokens in the training data\n",
      "The top 15 are: \n"
     ]
    },
    {
     "data": {
      "text/plain": [
       "i       0.062597\n",
       "and     0.031681\n",
       "the     0.029820\n",
       "to      0.023766\n",
       "it      0.023151\n",
       "my      0.021326\n",
       "a       0.021310\n",
       "for     0.014808\n",
       "was     0.012896\n",
       "of      0.012638\n",
       "have    0.012548\n",
       "this    0.010037\n",
       "on      0.009976\n",
       "in      0.009363\n",
       "but     0.009027\n",
       "dtype: float64"
      ]
     },
     "execution_count": 9,
     "metadata": {},
     "output_type": "execute_result"
    }
   ],
   "source": [
    "# Flatted the tweets into a single list of words\n",
    "train_words_flattened = [word for text in train_df['review_words'] for word in text]\n",
    "train_words_series = pd.Series(train_words_flattened).value_counts(normalize = True)\n",
    "\n",
    "print(f'There are {len(train_words_series)} distinct words/tokens in the training data')\n",
    "\n",
    "# Get the relative frequency of the top words in the data\n",
    "top_k_words = 15\n",
    "print(f'The top {top_k_words} are: ')\n",
    "train_words_series[0:top_k_words]\n"
   ]
  },
  {
   "cell_type": "markdown",
   "metadata": {
    "id": "OuoyQ9LN9lXw"
   },
   "source": [
    "# Model Preliminaries\n",
    "\n",
    "Before moving onto creating our models, we take care of a few necessary preliminaries. First, we define our target feature (favorable_rating), a binary indicator for ratings of 6.0 and higher (accounting for 70% of training records). We then define our vocabulary, based on the training data alone, which we will pass into our text vectorizer, the first layer of our models. Finally, we define two helper functions which will be used to display model results."
   ]
  },
  {
   "cell_type": "code",
   "execution_count": null,
   "metadata": {
    "id": "5QjICmjMbZP3"
   },
   "outputs": [],
   "source": [
    "train_df['favorable_rating'] = (train_df['rating'] > 5.0).astype('int')\n",
    "test_df['favorable_rating'] = (test_df['rating'] > 5.0).astype('int')"
   ]
  },
  {
   "cell_type": "code",
   "execution_count": null,
   "metadata": {
    "colab": {
     "base_uri": "https://localhost:8080/"
    },
    "id": "KtdzUGYid4Kx",
    "outputId": "381d8059-5ef5-45be-fdfe-57db00736737"
   },
   "outputs": [
    {
     "name": "stdout",
     "output_type": "stream",
     "text": [
      "70.29% of train records have a favorable rating\n"
     ]
    },
    {
     "data": {
      "text/plain": [
       "1    79121\n",
       "0    33445\n",
       "Name: favorable_rating, dtype: int64"
      ]
     },
     "execution_count": 11,
     "metadata": {},
     "output_type": "execute_result"
    }
   ],
   "source": [
    "print(f'{round(sum(train_df.favorable_rating)/len(train_df.favorable_rating)*100, 2)}% of train records have a favorable rating')\n",
    "train_df['favorable_rating'].value_counts()"
   ]
  },
  {
   "cell_type": "markdown",
   "metadata": {
    "id": "gvZsd_W2HSYx"
   },
   "source": [
    "Here we define a TfidfVectorizer, fitted to the train data, to build our vocabulary, which we will feed intor our textvectorizer. We set the optional parameters for min and max document frequencies, to place limits on words based on their occurances in the corpus, as well as a short list of words to explicitly exclude from the vocabulary."
   ]
  },
  {
   "cell_type": "code",
   "execution_count": null,
   "metadata": {
    "colab": {
     "base_uri": "https://localhost:8080/"
    },
    "id": "XUnTXDmUqx8D",
    "outputId": "ef58699c-5ece-4829-987b-45bba04f3dee"
   },
   "outputs": [
    {
     "name": "stdout",
     "output_type": "stream",
     "text": [
      "There are 4748 words in the vocabulary\n",
      "There are 41067 words in the stop words set\n",
      "\n",
      "Vocabulary sample:\n",
      " ['aa' 'abdomen' 'abdominal' 'abilify' 'ability' 'ablation' 'able'\n",
      " 'abnormal' 'abortion' 'abreva' 'abruptly' 'abscess' 'absolute'\n",
      " 'absolutely' 'absorb' 'absorbed' 'abuse' 'abused' 'abusing' 'accept']\n",
      "Stop word sample:\n",
      " ['countered', 'higschool', 'clinching', 'naseua', 'skinceuticals', 'vivell', 'oneness', 'carousel', 'valproic', 'irratibility', 'carboholic', 'whined', 'dousing', 'petbo', 'agitaged', 'pleanty', 'rogain', 'dulco', 'synvice', 'pharmac']\n"
     ]
    }
   ],
   "source": [
    "stop_words = ['aboard','about','above','across','after','against','along','amid','among','anti','around','as','at','before','behind',\n",
    "              'below','beneath','beside','besides','between','beyond','but','by','concerning','considering','despite','down','during',\n",
    "              'except','excepting','excluding','following','for','from','in','inside','into','like','minus','near','of','off','on',\n",
    "              'onto','opposite','outside','over','past','per','plus','regarding','round','save','since','than','through','to','toward',\n",
    "              'towards','under','underneath','unlike','until','up','upon','versus','via','with','within','without'\n",
    "              ]\n",
    "\n",
    "vectorizer = TfidfVectorizer(strip_accents = 'ascii', min_df = 0.0005, max_df = .6, stop_words = stop_words)\n",
    "\n",
    "vectorizer.fit(train_df['review_clean'])\n",
    "\n",
    "print(f'There are {len(vectorizer.vocabulary_.keys())} words in the vocabulary')\n",
    "print(f'There are {len(list(vectorizer.stop_words_))} words in the stop words set\\n')\n",
    "print('Vocabulary sample:\\n', vectorizer.get_feature_names_out()[0:20])\n",
    "print('Stop word sample:\\n', list(vectorizer.stop_words_)[0:20])"
   ]
  },
  {
   "cell_type": "code",
   "execution_count": null,
   "metadata": {
    "id": "7gwvnOxJUxAN"
   },
   "outputs": [],
   "source": [
    "# Graph the train and validation loss and accuracy across two paired plots\n",
    "def plot_model_fit_history(training_hist, model_name):\n",
    "    # Create two plots with a shared X-axis\n",
    "    fig, axs = plt.subplots(2, 1, sharex = True)\n",
    "    # Remove vertical space between axes\n",
    "    fig.subplots_adjust(hspace = 0)\n",
    "    # Plot losses\n",
    "    axs[0].plot(training_hist.history['loss'])\n",
    "    axs[0].plot(training_hist.history['val_loss'])\n",
    "    axs[0].legend(['Train', 'Validation'], loc = 'upper left')\n",
    "    axs[0].set_ylabel('Loss')\n",
    "    # Plot accuracy\n",
    "    axs[1].plot(training_hist.history['accuracy'])\n",
    "    axs[1].plot(training_hist.history['val_accuracy'])\n",
    "    axs[1].legend(['Train', 'Validation'], loc = 'upper left')\n",
    "    axs[1].set_ylabel('Accuracy')\n",
    "\n",
    "    fig.supxlabel('Epoch')\n",
    "    fig.suptitle(f'Training Loss and Accuracy for {model_name}')\n",
    "    # Display\n",
    "    plt.show()"
   ]
  },
  {
   "cell_type": "code",
   "execution_count": null,
   "metadata": {
    "id": "-_DTYgFaNkuy"
   },
   "outputs": [],
   "source": [
    "# Display a scikit-learn classification report and confusion matrix for the model results\n",
    "def print_model_results(y_true, y_pred, model_name):\n",
    "  # Print the classification report\n",
    "  print(metrics.classification_report(y_true, y_pred, digits = 3))\n",
    "  # Define the confusion matrix\n",
    "  cm = metrics.confusion_matrix(y_true, y_pred)\n",
    "  # Display the confusion matrix\n",
    "  dsp = metrics.ConfusionMatrixDisplay(cm)\n",
    "  dsp.plot()\n",
    "  plt.title(f'Confusion Matrix for {model_name}')\n",
    "  plt.show()"
   ]
  },
  {
   "cell_type": "code",
   "execution_count": null,
   "metadata": {
    "id": "1qK_Ny82cJ__"
   },
   "outputs": [],
   "source": [
    "tf.keras.backend.clear_session()"
   ]
  },
  {
   "cell_type": "markdown",
   "metadata": {
    "id": "AS4ZM5pn9ql1"
   },
   "source": [
    "# Binary Models\n",
    "Below we define our RNN models for the binary classification task. We first define our vectorization layer and prepare the train and test (validation data) by passing it through the layer and batch and prefetch it as a TF Dataset, which will help the models run efficiently.\n",
    "\n",
    "The vectorize layer simply takes the previously defined vocabulary and uses this to vectorize text, by converting each sample into a vector of integer indices corresponding to words in the vocabulary."
   ]
  },
  {
   "cell_type": "code",
   "execution_count": null,
   "metadata": {
    "id": "qRrz16ruoGCM"
   },
   "outputs": [],
   "source": [
    "# Create an alternate vectorize_layer using the vocab from the TFIDF vectorizer\n",
    "vectorize_layer = TextVectorization(standardize = 'lower_and_strip_punctuation',\n",
    "                                    split = 'whitespace',\n",
    "                                    vocabulary = list(vectorizer.vocabulary_.keys()),\n",
    "                                    output_mode = 'int',\n",
    "                                   )\n",
    "# Vectorize the training data\n",
    "train_ds = vectorize_layer(train_df['review_clean'])\n",
    "test_ds = vectorize_layer(test_df['review_clean'])\n",
    "\n",
    "batch_size = 128\n",
    "train_ds = tf.data.Dataset.from_tensor_slices((train_ds, train_df['favorable_rating'])).batch(batch_size).prefetch(tf.data.AUTOTUNE)\n",
    "test_ds = tf.data.Dataset.from_tensor_slices((test_ds, test_df['favorable_rating'])).batch(batch_size).prefetch(tf.data.AUTOTUNE)\n"
   ]
  },
  {
   "cell_type": "markdown",
   "metadata": {
    "id": "wR0DR0nlM9GV"
   },
   "source": [
    "### Model 0\n",
    "A very simple RNN, this model consists of just an embedding, a bi-directional GRU, and a classifier. We specify a binary cross-entropy loss and a RMSprop optimizer. We then run the training sequence for 20 epochs with an early stopping condition to end training after three epochs without improvement in the validation loss. Note here that we are masking zeros in the embedding, which gives us a bit of a performance boost in ignoring the zero padding in our vectorized text."
   ]
  },
  {
   "cell_type": "code",
   "execution_count": null,
   "metadata": {
    "colab": {
     "base_uri": "https://localhost:8080/"
    },
    "id": "ODXb3-UJft56",
    "outputId": "f1c9338f-a0a6-4020-c950-c46e8f037789"
   },
   "outputs": [
    {
     "name": "stdout",
     "output_type": "stream",
     "text": [
      "Model: \"sequential\"\n",
      "_________________________________________________________________\n",
      " Layer (type)                Output Shape              Param #   \n",
      "=================================================================\n",
      " embedding (Embedding)       (None, None, 64)          303872    \n",
      "                                                                 \n",
      " bidirectional (Bidirection  (None, 128)               49920     \n",
      " al)                                                             \n",
      "                                                                 \n",
      " dense (Dense)               (None, 1)                 129       \n",
      "                                                                 \n",
      "=================================================================\n",
      "Total params: 353921 (1.35 MB)\n",
      "Trainable params: 353921 (1.35 MB)\n",
      "Non-trainable params: 0 (0.00 Byte)\n",
      "_________________________________________________________________\n"
     ]
    }
   ],
   "source": [
    "model0 = keras.Sequential([layers.Embedding(len(vectorizer.vocabulary_.keys()), 64, mask_zero = True),\n",
    "                          layers.Bidirectional(layers.GRU(64)),\n",
    "                          layers.Dense(1, activation = 'sigmoid')\n",
    "                         ])\n",
    "model0.summary()\n",
    "\n",
    "model0.compile(loss = 'binary_crossentropy', optimizer = keras.optimizers.RMSprop(1e-3), metrics = ['accuracy'])"
   ]
  },
  {
   "cell_type": "code",
   "execution_count": null,
   "metadata": {
    "colab": {
     "base_uri": "https://localhost:8080/",
     "height": 1000
    },
    "id": "GvCgkUdEgB3q",
    "outputId": "cb63a944-458b-4ca0-efc2-e9caef0ce51b"
   },
   "outputs": [
    {
     "name": "stdout",
     "output_type": "stream",
     "text": [
      "Epoch 1/20\n",
      "880/880 - 83s - loss: 0.4285 - accuracy: 0.8042 - val_loss: 0.3543 - val_accuracy: 0.8461 - 83s/epoch - 94ms/step\n",
      "Epoch 2/20\n",
      "880/880 - 34s - loss: 0.3609 - accuracy: 0.8440 - val_loss: 0.3420 - val_accuracy: 0.8525 - 34s/epoch - 39ms/step\n",
      "Epoch 3/20\n",
      "880/880 - 34s - loss: 0.3445 - accuracy: 0.8524 - val_loss: 0.3330 - val_accuracy: 0.8573 - 34s/epoch - 39ms/step\n",
      "Epoch 4/20\n",
      "880/880 - 34s - loss: 0.3324 - accuracy: 0.8579 - val_loss: 0.3250 - val_accuracy: 0.8611 - 34s/epoch - 38ms/step\n",
      "Epoch 5/20\n",
      "880/880 - 34s - loss: 0.3206 - accuracy: 0.8635 - val_loss: 0.3158 - val_accuracy: 0.8649 - 34s/epoch - 38ms/step\n",
      "Epoch 6/20\n",
      "880/880 - 34s - loss: 0.3081 - accuracy: 0.8698 - val_loss: 0.3071 - val_accuracy: 0.8698 - 34s/epoch - 39ms/step\n",
      "Epoch 7/20\n",
      "880/880 - 34s - loss: 0.2963 - accuracy: 0.8754 - val_loss: 0.2993 - val_accuracy: 0.8735 - 34s/epoch - 39ms/step\n",
      "Epoch 8/20\n",
      "880/880 - 34s - loss: 0.2849 - accuracy: 0.8812 - val_loss: 0.2916 - val_accuracy: 0.8783 - 34s/epoch - 38ms/step\n",
      "Epoch 9/20\n",
      "880/880 - 34s - loss: 0.2739 - accuracy: 0.8872 - val_loss: 0.2848 - val_accuracy: 0.8830 - 34s/epoch - 38ms/step\n",
      "Epoch 10/20\n",
      "880/880 - 34s - loss: 0.2634 - accuracy: 0.8932 - val_loss: 0.2794 - val_accuracy: 0.8864 - 34s/epoch - 39ms/step\n",
      "Epoch 11/20\n",
      "880/880 - 34s - loss: 0.2536 - accuracy: 0.8988 - val_loss: 0.2759 - val_accuracy: 0.8885 - 34s/epoch - 38ms/step\n",
      "Epoch 12/20\n",
      "880/880 - 33s - loss: 0.2441 - accuracy: 0.9038 - val_loss: 0.2736 - val_accuracy: 0.8911 - 33s/epoch - 38ms/step\n",
      "Epoch 13/20\n",
      "880/880 - 33s - loss: 0.2351 - accuracy: 0.9080 - val_loss: 0.2716 - val_accuracy: 0.8933 - 33s/epoch - 38ms/step\n",
      "Epoch 14/20\n",
      "880/880 - 34s - loss: 0.2259 - accuracy: 0.9123 - val_loss: 0.2690 - val_accuracy: 0.8954 - 34s/epoch - 38ms/step\n",
      "Epoch 15/20\n",
      "880/880 - 34s - loss: 0.2166 - accuracy: 0.9168 - val_loss: 0.2672 - val_accuracy: 0.8993 - 34s/epoch - 38ms/step\n",
      "Epoch 16/20\n",
      "880/880 - 34s - loss: 0.2072 - accuracy: 0.9216 - val_loss: 0.2648 - val_accuracy: 0.9008 - 34s/epoch - 38ms/step\n",
      "Epoch 17/20\n",
      "880/880 - 34s - loss: 0.1977 - accuracy: 0.9256 - val_loss: 0.2641 - val_accuracy: 0.9025 - 34s/epoch - 38ms/step\n",
      "Epoch 18/20\n",
      "880/880 - 34s - loss: 0.1879 - accuracy: 0.9305 - val_loss: 0.2648 - val_accuracy: 0.9044 - 34s/epoch - 38ms/step\n",
      "Epoch 19/20\n",
      "880/880 - 34s - loss: 0.1776 - accuracy: 0.9352 - val_loss: 0.2660 - val_accuracy: 0.9059 - 34s/epoch - 39ms/step\n",
      "Epoch 20/20\n",
      "880/880 - 34s - loss: 0.1677 - accuracy: 0.9403 - val_loss: 0.2691 - val_accuracy: 0.9065 - 34s/epoch - 39ms/step\n",
      "Epoch 20: early stopping\n"
     ]
    },
    {
     "data": {
      "image/png": "[encoded data removed]",
      "text/plain": [
       "<Figure size 640x480 with 2 Axes>"
      ]
     },
     "metadata": {},
     "output_type": "display_data"
    }
   ],
   "source": [
    "earl_stop = keras.callbacks.EarlyStopping(monitor = 'val_loss', patience = 3, verbose = 1, mode = 'min')\n",
    "model_hist0 = model0.fit(x = train_ds, epochs = 20, validation_data = test_ds, callbacks = [earl_stop], verbose = 2)\n",
    "\n",
    "plot_model_fit_history(model_hist0, 'model 0')"
   ]
  },
  {
   "cell_type": "markdown",
   "metadata": {
    "id": "R_w7vMSDNilT"
   },
   "source": [
    "### Model 1\n",
    "\n",
    "Here we somewhat expand on our first model by adding an additional bi-directional GRU and a dense layer prior to the activation. Our embedding is unchanged from model 0 but we cut the output of the GRU in half; the following GRU has output size reduced again by one-half."
   ]
  },
  {
   "cell_type": "code",
   "execution_count": null,
   "metadata": {
    "colab": {
     "base_uri": "https://localhost:8080/"
    },
    "id": "ayBxnrI2gZW3",
    "outputId": "06a0a0d8-9601-4c9e-fd86-a0d6a6e58bf9"
   },
   "outputs": [
    {
     "name": "stdout",
     "output_type": "stream",
     "text": [
      "Model: \"sequential_1\"\n",
      "_________________________________________________________________\n",
      " Layer (type)                Output Shape              Param #   \n",
      "=================================================================\n",
      " embedding_1 (Embedding)     (None, None, 64)          303872    \n",
      "                                                                 \n",
      " bidirectional_1 (Bidirecti  (None, None, 64)          18816     \n",
      " onal)                                                           \n",
      "                                                                 \n",
      " bidirectional_2 (Bidirecti  (None, 32)                7872      \n",
      " onal)                                                           \n",
      "                                                                 \n",
      " dense_1 (Dense)             (None, 64)                2112      \n",
      "                                                                 \n",
      " dense_2 (Dense)             (None, 1)                 65        \n",
      "                                                                 \n",
      "=================================================================\n",
      "Total params: 332737 (1.27 MB)\n",
      "Trainable params: 332737 (1.27 MB)\n",
      "Non-trainable params: 0 (0.00 Byte)\n",
      "_________________________________________________________________\n"
     ]
    }
   ],
   "source": [
    "model1 = keras.Sequential([layers.Embedding(len(vectorizer.vocabulary_.keys()), 64, mask_zero = True),\n",
    "                          layers.Bidirectional(layers.GRU(32, return_sequences = True)),\n",
    "                          layers.Bidirectional(layers.GRU(16)),\n",
    "                          layers.Dense(64, activation = 'relu'),\n",
    "                          layers.Dense(1, activation = 'sigmoid')\n",
    "                         ])\n",
    "model1.summary()\n",
    "\n",
    "model1.compile(loss = 'binary_crossentropy', optimizer = keras.optimizers.RMSprop(1e-3), metrics = ['accuracy'])"
   ]
  },
  {
   "cell_type": "code",
   "execution_count": null,
   "metadata": {
    "colab": {
     "base_uri": "https://localhost:8080/",
     "height": 1000
    },
    "id": "ny_W9SOygZNy",
    "outputId": "7237df54-da09-416f-b52a-e2f0db96fe39"
   },
   "outputs": [
    {
     "name": "stdout",
     "output_type": "stream",
     "text": [
      "Epoch 1/20\n",
      "880/880 - 110s - loss: 0.4272 - accuracy: 0.8048 - val_loss: 0.3532 - val_accuracy: 0.8466 - 110s/epoch - 125ms/step\n",
      "Epoch 2/20\n",
      "880/880 - 67s - loss: 0.3561 - accuracy: 0.8462 - val_loss: 0.3375 - val_accuracy: 0.8551 - 67s/epoch - 76ms/step\n",
      "Epoch 3/20\n",
      "880/880 - 68s - loss: 0.3384 - accuracy: 0.8554 - val_loss: 0.3283 - val_accuracy: 0.8598 - 68s/epoch - 77ms/step\n",
      "Epoch 4/20\n",
      "880/880 - 67s - loss: 0.3250 - accuracy: 0.8616 - val_loss: 0.3186 - val_accuracy: 0.8638 - 67s/epoch - 77ms/step\n",
      "Epoch 5/20\n",
      "880/880 - 67s - loss: 0.3115 - accuracy: 0.8682 - val_loss: 0.3076 - val_accuracy: 0.8698 - 67s/epoch - 76ms/step\n",
      "Epoch 6/20\n",
      "880/880 - 67s - loss: 0.2973 - accuracy: 0.8749 - val_loss: 0.2980 - val_accuracy: 0.8745 - 67s/epoch - 76ms/step\n",
      "Epoch 7/20\n",
      "880/880 - 67s - loss: 0.2842 - accuracy: 0.8818 - val_loss: 0.2906 - val_accuracy: 0.8783 - 67s/epoch - 77ms/step\n",
      "Epoch 8/20\n",
      "880/880 - 68s - loss: 0.2722 - accuracy: 0.8885 - val_loss: 0.2849 - val_accuracy: 0.8822 - 68s/epoch - 77ms/step\n",
      "Epoch 9/20\n",
      "880/880 - 70s - loss: 0.2609 - accuracy: 0.8942 - val_loss: 0.2820 - val_accuracy: 0.8847 - 70s/epoch - 80ms/step\n",
      "Epoch 10/20\n",
      "880/880 - 71s - loss: 0.2503 - accuracy: 0.8991 - val_loss: 0.2781 - val_accuracy: 0.8871 - 71s/epoch - 81ms/step\n",
      "Epoch 11/20\n",
      "880/880 - 68s - loss: 0.2399 - accuracy: 0.9046 - val_loss: 0.2751 - val_accuracy: 0.8905 - 68s/epoch - 77ms/step\n",
      "Epoch 12/20\n",
      "880/880 - 68s - loss: 0.2293 - accuracy: 0.9095 - val_loss: 0.2762 - val_accuracy: 0.8933 - 68s/epoch - 77ms/step\n",
      "Epoch 13/20\n",
      "880/880 - 67s - loss: 0.2186 - accuracy: 0.9149 - val_loss: 0.2779 - val_accuracy: 0.8939 - 67s/epoch - 77ms/step\n",
      "Epoch 14/20\n",
      "880/880 - 69s - loss: 0.2079 - accuracy: 0.9194 - val_loss: 0.2786 - val_accuracy: 0.8959 - 69s/epoch - 78ms/step\n",
      "Epoch 14: early stopping\n"
     ]
    },
    {
     "data": {
      "image/png": "[encoded data removed]",
      "text/plain": [
       "<Figure size 640x480 with 2 Axes>"
      ]
     },
     "metadata": {},
     "output_type": "display_data"
    }
   ],
   "source": [
    "earl_stop = keras.callbacks.EarlyStopping(monitor = 'val_loss', patience = 3, verbose = 1, mode = 'min')\n",
    "model_hist1 = model1.fit(x = train_ds, epochs = 20, validation_data = test_ds, callbacks = [earl_stop], verbose = 2)\n",
    "\n",
    "plot_model_fit_history(model_hist1, 'model 1')"
   ]
  },
  {
   "cell_type": "markdown",
   "metadata": {
    "id": "nWUC0jD6N6sh"
   },
   "source": [
    "### Model 2\n",
    "Our next model has the same initial structure as the prior two -- the vectorized text is fed into an embedding layer which masks zeros -- but expands with additional layers. Here we have kept the bi-directional GRU from the first model and added two more standard GRUs; these GRUs are followed by two dense layers with ReLU activation."
   ]
  },
  {
   "cell_type": "code",
   "execution_count": null,
   "metadata": {
    "colab": {
     "base_uri": "https://localhost:8080/"
    },
    "id": "RaVUvfUoPBbJ",
    "outputId": "93748850-b2ab-4714-85b5-362cf07d50d7"
   },
   "outputs": [
    {
     "name": "stdout",
     "output_type": "stream",
     "text": [
      "Model: \"sequential_2\"\n",
      "_________________________________________________________________\n",
      " Layer (type)                Output Shape              Param #   \n",
      "=================================================================\n",
      " embedding_2 (Embedding)     (None, None, 64)          303872    \n",
      "                                                                 \n",
      " bidirectional_3 (Bidirecti  (None, None, 128)         49920     \n",
      " onal)                                                           \n",
      "                                                                 \n",
      " gru_4 (GRU)                 (None, None, 64)          37248     \n",
      "                                                                 \n",
      " gru_5 (GRU)                 (None, 64)                24960     \n",
      "                                                                 \n",
      " dense_3 (Dense)             (None, 64)                4160      \n",
      "                                                                 \n",
      " dense_4 (Dense)             (None, 32)                2080      \n",
      "                                                                 \n",
      " dense_5 (Dense)             (None, 1)                 33        \n",
      "                                                                 \n",
      "=================================================================\n",
      "Total params: 422273 (1.61 MB)\n",
      "Trainable params: 422273 (1.61 MB)\n",
      "Non-trainable params: 0 (0.00 Byte)\n",
      "_________________________________________________________________\n"
     ]
    }
   ],
   "source": [
    "lr_schedule = keras.optimizers.schedules.ExponentialDecay(initial_learning_rate = 1e-3, decay_steps = 2000, decay_rate = 0.96, staircase = True)\n",
    "model2 = keras.Sequential([layers.Embedding(len(vectorizer.vocabulary_.keys()), 64, mask_zero = True),\n",
    "                          layers.Bidirectional(layers.GRU(64, return_sequences = True)),\n",
    "                          layers.GRU(64, return_sequences = True),\n",
    "                          layers.GRU(64),\n",
    "                          layers.Dense(64, activation = 'relu'),\n",
    "                          layers.Dense(32, activation = 'relu'),\n",
    "                          layers.Dense(1, activation = 'sigmoid')\n",
    "                         ])\n",
    "model2.summary()\n",
    "\n",
    "model2.compile(loss = 'binary_crossentropy', optimizer = keras.optimizers.RMSprop(1e-3), metrics = ['accuracy'])"
   ]
  },
  {
   "cell_type": "code",
   "execution_count": null,
   "metadata": {
    "colab": {
     "base_uri": "https://localhost:8080/",
     "height": 1000
    },
    "id": "LrVRiM_-PFLC",
    "outputId": "5c31a635-6118-434b-c11e-c0642051e47d"
   },
   "outputs": [
    {
     "name": "stdout",
     "output_type": "stream",
     "text": [
      "Epoch 1/20\n",
      "880/880 - 118s - loss: 0.4479 - accuracy: 0.7958 - val_loss: 0.3767 - val_accuracy: 0.8397 - 118s/epoch - 134ms/step\n",
      "Epoch 2/20\n",
      "880/880 - 71s - loss: 0.3801 - accuracy: 0.8365 - val_loss: 0.3626 - val_accuracy: 0.8463 - 71s/epoch - 80ms/step\n",
      "Epoch 3/20\n",
      "880/880 - 70s - loss: 0.3647 - accuracy: 0.8449 - val_loss: 0.3536 - val_accuracy: 0.8500 - 70s/epoch - 80ms/step\n",
      "Epoch 4/20\n",
      "880/880 - 70s - loss: 0.3488 - accuracy: 0.8521 - val_loss: 0.3332 - val_accuracy: 0.8581 - 70s/epoch - 80ms/step\n",
      "Epoch 5/20\n",
      "880/880 - 71s - loss: 0.3301 - accuracy: 0.8603 - val_loss: 0.3196 - val_accuracy: 0.8638 - 71s/epoch - 81ms/step\n",
      "Epoch 6/20\n",
      "880/880 - 72s - loss: 0.3148 - accuracy: 0.8677 - val_loss: 0.3110 - val_accuracy: 0.8700 - 72s/epoch - 82ms/step\n",
      "Epoch 7/20\n",
      "880/880 - 71s - loss: 0.3018 - accuracy: 0.8743 - val_loss: 0.3047 - val_accuracy: 0.8740 - 71s/epoch - 81ms/step\n",
      "Epoch 8/20\n",
      "880/880 - 70s - loss: 0.2902 - accuracy: 0.8807 - val_loss: 0.3000 - val_accuracy: 0.8763 - 70s/epoch - 80ms/step\n",
      "Epoch 9/20\n",
      "880/880 - 72s - loss: 0.2796 - accuracy: 0.8869 - val_loss: 0.2938 - val_accuracy: 0.8802 - 72s/epoch - 82ms/step\n",
      "Epoch 10/20\n",
      "880/880 - 72s - loss: 0.2689 - accuracy: 0.8922 - val_loss: 0.2971 - val_accuracy: 0.8811 - 72s/epoch - 81ms/step\n",
      "Epoch 11/20\n",
      "880/880 - 70s - loss: 0.2583 - accuracy: 0.8978 - val_loss: 0.2847 - val_accuracy: 0.8876 - 70s/epoch - 80ms/step\n",
      "Epoch 12/20\n",
      "880/880 - 72s - loss: 0.2482 - accuracy: 0.9036 - val_loss: 0.2772 - val_accuracy: 0.8915 - 72s/epoch - 82ms/step\n",
      "Epoch 13/20\n",
      "880/880 - 75s - loss: 0.2388 - accuracy: 0.9084 - val_loss: 0.2854 - val_accuracy: 0.8923 - 75s/epoch - 85ms/step\n",
      "Epoch 14/20\n",
      "880/880 - 73s - loss: 0.2289 - accuracy: 0.9138 - val_loss: 0.2927 - val_accuracy: 0.8905 - 73s/epoch - 83ms/step\n",
      "Epoch 15/20\n",
      "880/880 - 72s - loss: 0.2193 - accuracy: 0.9187 - val_loss: 0.2765 - val_accuracy: 0.8958 - 72s/epoch - 82ms/step\n",
      "Epoch 16/20\n",
      "880/880 - 72s - loss: 0.2101 - accuracy: 0.9228 - val_loss: 0.2783 - val_accuracy: 0.8970 - 72s/epoch - 82ms/step\n",
      "Epoch 17/20\n",
      "880/880 - 72s - loss: 0.1999 - accuracy: 0.9273 - val_loss: 0.2750 - val_accuracy: 0.9014 - 72s/epoch - 82ms/step\n",
      "Epoch 18/20\n",
      "880/880 - 70s - loss: 0.1901 - accuracy: 0.9320 - val_loss: 0.2731 - val_accuracy: 0.9033 - 70s/epoch - 80ms/step\n",
      "Epoch 19/20\n",
      "880/880 - 72s - loss: 0.1806 - accuracy: 0.9359 - val_loss: 0.2680 - val_accuracy: 0.9039 - 72s/epoch - 82ms/step\n",
      "Epoch 20/20\n",
      "880/880 - 72s - loss: 0.1702 - accuracy: 0.9406 - val_loss: 0.2871 - val_accuracy: 0.9050 - 72s/epoch - 81ms/step\n"
     ]
    },
    {
     "data": {
      "image/png": "[encoded data removed]",
      "text/plain": [
       "<Figure size 640x480 with 2 Axes>"
      ]
     },
     "metadata": {},
     "output_type": "display_data"
    }
   ],
   "source": [
    "earl_stop = keras.callbacks.EarlyStopping(monitor = 'val_loss', patience = 3, verbose = 1, mode = 'min')\n",
    "model_hist2 = model2.fit(x = train_ds, epochs = 20, validation_data = test_ds, callbacks = [earl_stop], verbose = 2)\n",
    "\n",
    "plot_model_fit_history(model_hist2, 'model 2')"
   ]
  },
  {
   "cell_type": "markdown",
   "metadata": {
    "id": "3dr7zCOEOo0z"
   },
   "source": [
    "## Results\n",
    "\n",
    "Despite the difference in architecture across our three models, we see quite similar performance in learning the binary classification task on the review text. However, our first model, an extremely simple RNN consisting of a vectorizer, an embedding, one bi-directional GRU, and a classifier, out-performed the subsequent two models, as judged by F1-score in the negative and positive classes:\n",
    "\n",
    "* Model 0: 84.1%, 93.4%\n",
    "\n",
    "* Model 1: 82.0%, 92.7%\n",
    "\n",
    "* Model 2: 83.9%, 93.3%"
   ]
  },
  {
   "cell_type": "code",
   "execution_count": null,
   "metadata": {
    "colab": {
     "base_uri": "https://localhost:8080/",
     "height": 1000
    },
    "id": "EjBaLvhk6d0t",
    "outputId": "510e018b-d0c1-4d3a-ee64-4d38c92daa80"
   },
   "outputs": [
    {
     "name": "stdout",
     "output_type": "stream",
     "text": [
      "              precision    recall  f1-score   support\n",
      "\n",
      "           0      0.863     0.820     0.841     14545\n",
      "           1      0.924     0.944     0.934     33794\n",
      "\n",
      "    accuracy                          0.906     48339\n",
      "   macro avg      0.893     0.882     0.887     48339\n",
      "weighted avg      0.906     0.906     0.906     48339\n",
      "\n"
     ]
    },
    {
     "data": {
      "image/png": "[encoded data removed]",
      "text/plain": [
       "<Figure size 640x480 with 2 Axes>"
      ]
     },
     "metadata": {},
     "output_type": "display_data"
    },
    {
     "name": "stdout",
     "output_type": "stream",
     "text": [
      "              precision    recall  f1-score   support\n",
      "\n",
      "           0      0.855     0.787     0.820     14545\n",
      "           1      0.912     0.943     0.927     33794\n",
      "\n",
      "    accuracy                          0.896     48339\n",
      "   macro avg      0.883     0.865     0.873     48339\n",
      "weighted avg      0.895     0.896     0.895     48339\n",
      "\n"
     ]
    },
    {
     "data": {
      "image/png": "[encoded data removed]",
      "text/plain": [
       "<Figure size 640x480 with 2 Axes>"
      ]
     },
     "metadata": {},
     "output_type": "display_data"
    },
    {
     "name": "stdout",
     "output_type": "stream",
     "text": [
      "              precision    recall  f1-score   support\n",
      "\n",
      "           0      0.854     0.825     0.839     14545\n",
      "           1      0.926     0.940     0.933     33794\n",
      "\n",
      "    accuracy                          0.905     48339\n",
      "   macro avg      0.890     0.882     0.886     48339\n",
      "weighted avg      0.904     0.905     0.905     48339\n",
      "\n"
     ]
    },
    {
     "data": {
      "image/png": "[encoded data removed]",
      "text/plain": [
       "<Figure size 640x480 with 2 Axes>"
      ]
     },
     "metadata": {},
     "output_type": "display_data"
    }
   ],
   "source": [
    "val_X = vectorize_layer(test_df['review_clean'])\n",
    "\n",
    "y_pred0 = model0.predict(val_X, verbose = 0)\n",
    "y_pred0 = (y_pred0 > 0.5).astype('int')\n",
    "print_model_results(test_df['favorable_rating'], y_pred0, 'model 0')\n",
    "\n",
    "y_pred1 = model1.predict(val_X, verbose = 0)\n",
    "y_pred1 = (y_pred1 > 0.5).astype('int')\n",
    "print_model_results(test_df['favorable_rating'], y_pred1, 'model 1')\n",
    "\n",
    "y_pred2 = model2.predict(val_X, verbose = 0)\n",
    "y_pred2 = (y_pred2 > 0.5).astype('int')\n",
    "print_model_results(test_df['favorable_rating'], y_pred2, 'model 2')"
   ]
  },
  {
   "cell_type": "markdown",
   "metadata": {
    "id": "bd-VnD9sOq3s"
   },
   "source": [
    "# Conclusion\n",
    "\n",
    "In this report we performed an NLP analysis and modeled patient reviews of drugs to predict whether or not the patient had a favorable experience with the drug. After basic preprocessing, including text cleaning and removal of duplicates, we created a vocabulary on the training data, which we used to define a text vectorizer. The vectorized review texts were then fed into the models, of which we created three, for training. We began with an initial model to baseline (Model 0) and two alternate model complicated models. However, we found that Model 0 showed the highest classification performance on the test data, with F1-scores of 84.1% and 93.4% on the negative and positive classes."
   ]
  }
 ],
 "metadata": {
  "accelerator": "GPU",
  "colab": {
   "gpuType": "A100",
   "provenance": []
  },
  "kernelspec": {
   "display_name": "Python 3 (ipykernel)",
   "language": "python",
   "name": "python3"
  },
  "language_info": {
   "codemirror_mode": {
    "name": "ipython",
    "version": 3
   },
   "file_extension": ".py",
   "mimetype": "text/x-python",
   "name": "python",
   "nbconvert_exporter": "python",
   "pygments_lexer": "ipython3",
   "version": "3.9.17"
  }
 },
 "nbformat": 4,
 "nbformat_minor": 1
}
